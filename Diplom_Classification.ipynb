{
 "cells": [
  {
   "cell_type": "markdown",
   "metadata": {},
   "source": [
    "### Введение\n",
    "#### Предподгатовка входных данных:\n",
    "###### Напомню под растоянием между скважинами здесь и далее я имею в виду DTW меру растояния от одного временного ряда до другого.\n",
    "###### Первоначальная идея с расчетом растояний от каждой скважины до каждой провалилась, т.к. требовала слишком много времени (напомню речь идет о 32 тысячах скважин = пар временных рядов (по 2 ряда на скважину)).\n",
    "###### Поэтому я решил выбрать характерные скважины и посчитать растояние от них до каждой скважины (всего не более 700 скважин) таким образом сильно сократив время расчетов. Скважины выбирались псевдо оптимально (сначала внутри каждого класса выберались претенденты (на основании матрицы растояний внутри класса) а потом все претенденты собирались в опщий список).\n",
    "###### Кроме того для наполнения классов со слишком малым количеством элементов была пременена аугментация (сдвиг, сжатие/растяжение , и добавление к значениям временных рядов малой константы (5% от амплитуды)). В результате сильно не сбалансированный исходынй датасет (~23000 скв.) получился более менее сбалансированный (~32000 скв.).\n",
    "###### Таким образом на вход алгоритма подается массив данных из растояний от выбранных характерных скважин до всех остальных для первого типа каротажа и для второго (эти столбцы называются WL1_*№* и WL2_*№*, где *№* - номер характерной скважины. Кроме того есть столбцы типа FE_*№* и mrk_*№* - это дополнительные данные по каждой скважине (FE_*№* - нормированные оценки некоторых свойств пласта) (mrk_*№* - логическая матрица(0,1) описывающая пренадлежность скважины конкретному пласту (имеет такой вид потому что была получена из строковой переменной имени пласта)). Так же в присутствует специальный столбец val_idx - это индекс пренадлежности к валидационной выборке, т.е. контрольную выборку для финальной вылидации я заранее выделил сам она состовляет 15% от всех данных и в нее вошли только не аугментированные данные (а так же эти данные сами не являлись родительскими для аугментации).\n",
    "###### Для упрощения проверки есть два датасета полный (32000 строк с 36 классами) и короткий (120 строк с 3 классами). Короткий датасет был получен из полного и в нем все классы сбалансированы (равны по численности), в полном это не так.\n",
    "#### Метрики качества:\n",
    "###### Для оченки качества модели я рассматриваю две метрики: f1-меру и среднюю вероятность правильного угадывания.\n",
    "###### f1-мера модифицирована и расчитывается для каждого класса в отдельности, при этом вместо суммы точных ответов (единиц) используются вероятности соответствующих ответов. Это сделало матрику более чувствительной. Так как мне выжно создать алгоритм точно определяющий каждый из представленных классов, я так же вывожу на экран графики f1-меры со значениями по каждому классу.\n",
    "###### Cреднюю вероятность правильного угадывания расчитывается как среднее от всех вероятностей правильных ответов."
   ]
  },
  {
   "cell_type": "markdown",
   "metadata": {},
   "source": [
    "### Загрузка библиотек"
   ]
  },
  {
   "cell_type": "code",
   "execution_count": 13,
   "metadata": {},
   "outputs": [],
   "source": [
    "import pandas as pd\n",
    "import numpy as np\n",
    "import time\n",
    "from tqdm import tqdm_notebook\n",
    "from sklearn.decomposition import PCA\n",
    "from sklearn.ensemble import RandomForestClassifier\n",
    "from sklearn.svm import SVC\n",
    "import lightgbm as lgb\n",
    "from sklearn.linear_model import LogisticRegression\n",
    "from sklearn.model_selection import RandomizedSearchCV\n",
    "from scipy.stats import randint as sp_randint\n",
    "import matplotlib.pyplot as plt"
   ]
  },
  {
   "cell_type": "markdown",
   "metadata": {},
   "source": [
    "### Чтение данных"
   ]
  },
  {
   "cell_type": "code",
   "execution_count": 2,
   "metadata": {},
   "outputs": [],
   "source": [
    "flag_short_data=1\n",
    "if flag_short_data: # Малый DataSet (пример для тестирования и обзора алгоритма)\n",
    "    dat=pd.read_csv('01_input//stp04_shortDataSet_MXcc_dat.csv', sep = ';')\n",
    "else: # Полный DataSet (для итогового расчера)\n",
    "    dat=pd.read_csv('01_input//stp04_MXcc_dat.csv', sep = ';')\n",
    "n_class=int(dat.values[:,0].max())"
   ]
  },
  {
   "cell_type": "markdown",
   "metadata": {},
   "source": [
    "### Разбиваем исходные данные по подвыборкам"
   ]
  },
  {
   "cell_type": "code",
   "execution_count": 3,
   "metadata": {},
   "outputs": [
    {
     "data": {
      "text/plain": [
       "(120, 26)"
      ]
     },
     "execution_count": 3,
     "metadata": {},
     "output_type": "execute_result"
    }
   ],
   "source": [
    "# Массив с номером класса\n",
    "dat_class=dat.values[:,0]\n",
    "\n",
    "# Выделим столбцы с FE\n",
    "flag_fe=np.zeros(dat.shape[1])\n",
    "for i in range(dat.shape[1]):\n",
    "    if dat.columns[i][0:2] == 'FE':\n",
    "        flag_fe[i]=1\n",
    "dat_fe=dat.values[:,flag_fe>0]\n",
    "\n",
    "# Выделим столбцы с mrk\n",
    "flag_mrk=np.zeros(dat.shape[1])\n",
    "for i in range(dat.shape[1]):\n",
    "    if dat.columns[i][0:3] == 'mrk':\n",
    "        flag_mrk[i]=1\n",
    "dat_mrk=dat.values[:,flag_mrk>0]\n",
    "\n",
    "# Выделим столбцы с WL\n",
    "flag_wl=np.zeros(dat.shape[1])\n",
    "for i in range(dat.shape[1]):\n",
    "    if dat.columns[i][0:3] == 'WL1':\n",
    "        flag_wl[i]=1\n",
    "    if dat.columns[i][0:3] == 'WL2':\n",
    "        flag_wl[i]=2\n",
    "\n",
    "# Применение МГК для понижения размерности данных WL и исключения их линейной взаимозависимости\n",
    "pca = PCA(.99) # Постораемся сохранить 99% информации \n",
    "buf=dat.values[dat.val_idx==0,:] # Обучаемся на всех данных кроме валидационных\n",
    "pca.fit(buf[:,flag_wl>0])\n",
    "dat_wl=pca.transform(dat.values[:,flag_wl>0])\n",
    "dat_wl.shape"
   ]
  },
  {
   "cell_type": "markdown",
   "metadata": {},
   "source": [
    "### Разделяем на обучающую, тренеровочную и валидационную выборки"
   ]
  },
  {
   "cell_type": "code",
   "execution_count": 4,
   "metadata": {},
   "outputs": [],
   "source": [
    "# Валидационная выборка (для итоговой оценки)\n",
    "dat_class_val_1=dat_class[dat.val_idx==1]\n",
    "dat_fe_val_1=dat_fe[dat.val_idx==1,:]\n",
    "dat_mrk_val_1=dat_mrk[dat.val_idx==1,:]\n",
    "dat_wl_val_1=dat_wl[dat.val_idx==1,:]\n",
    "# Остальные данные\n",
    "dat1_class=dat_class[dat.val_idx==0]\n",
    "dat1_fe=dat_fe[dat.val_idx==0,:]\n",
    "dat1_mrk=dat_mrk[dat.val_idx==0,:]\n",
    "dat1_wl=dat_wl[dat.val_idx==0,:]"
   ]
  },
  {
   "cell_type": "code",
   "execution_count": 5,
   "metadata": {},
   "outputs": [],
   "source": [
    "# Очистим память от ненужных более переменных\n",
    "# !!! !!! !!! !!! !!! !!! !!! !!! !!! !!! !!! !!! !!! !!! !!! !!!\n",
    "# ВНИМАНИЕ:\n",
    "#   если после исполнения этого кода вы захотите вернутся\n",
    "#     к предыдущим шагам, то придется запустить notebook сначала\n",
    "# !!! !!! !!! !!! !!! !!! !!! !!! !!! !!! !!! !!! !!! !!! !!! !!!\n",
    "del dat, dat_class, dat_fe, dat_mrk, dat_wl, buf"
   ]
  },
  {
   "cell_type": "raw",
   "metadata": {},
   "source": [
    "# Случайное формирование индексов для второй валидационной выборки\n",
    "val2_proportion=0.15\n",
    "ix=np.random.permutation(dat1_class.shape[0])\n",
    "idx_val_2=ix[:round(dat1_class.shape[0]*val2_proportion)]\n",
    "idx_val_2.sort()\n",
    "idx_dat_2=ix[round(dat1_class.shape[0]*val2_proportion):]\n",
    "idx_dat_2.sort()\n",
    "\n",
    "# Вторая валидационная выборка (для оценки мето алгоритма)\n",
    "dat_class_val_2=dat1_class[idx_val_2]\n",
    "dat_fe_val_2=dat1_fe[idx_val_2,:]\n",
    "dat_mrk_val_2=dat1_mrk[idx_val_2,:]\n",
    "dat_wl_val_2=dat1_wl[idx_val_2,:]\n",
    "# Остальные данные\n",
    "dat2_class=dat1_class[idx_dat_2]\n",
    "dat2_fe=dat1_fe[idx_dat_2,:]\n",
    "dat2_mrk=dat1_mrk[idx_dat_2,:]\n",
    "dat2_wl=dat1_wl[idx_dat_2,:]"
   ]
  },
  {
   "cell_type": "raw",
   "metadata": {},
   "source": [
    "# Очистим память от ненужных более переменных\n",
    "# !!! !!! !!! !!! !!! !!! !!! !!! !!! !!! !!! !!! !!! !!! !!! !!!\n",
    "# ВНИМАНИЕ:\n",
    "#   если после исполнения этого кода вы захотите вернутся\n",
    "#     к предыдущим шагам, то придется запустить notebook сначала\n",
    "# !!! !!! !!! !!! !!! !!! !!! !!! !!! !!! !!! !!! !!! !!! !!! !!!\n",
    "del dat1_class, dat1_fe, dat1_mrk, dat1_wl"
   ]
  },
  {
   "cell_type": "code",
   "execution_count": 6,
   "metadata": {},
   "outputs": [],
   "source": [
    "# Подготовка выборок \"X\" и \"y\" \n",
    "y=dat1_class\n",
    "y_str = [str(x) for x in y]\n",
    "#X=np.concatenate((dat2_fe,dat2_mrk,dat2_wl),axis=1)\n",
    "X=np.concatenate((dat1_fe,dat1_mrk,dat1_wl),axis=1)\n",
    "\n",
    "y_val1=dat_class_val_1\n",
    "y_val1_str = [str(x) for x in y_val1]\n",
    "X_val1=np.concatenate((dat_fe_val_1,dat_mrk_val_1,dat_wl_val_1),axis=1)\n",
    "\n",
    "#y_val2=dat_class_val_2\n",
    "#y_val2_str = [str(x) for x in y_val2]\n",
    "#X_val2=np.concatenate((dat_fe_val_2,dat_mrk_val_2,dat_wl_val_2),axis=1)"
   ]
  },
  {
   "cell_type": "code",
   "execution_count": 7,
   "metadata": {},
   "outputs": [],
   "source": [
    "# Функция расчета f1 меры для каждого класса\n",
    "def my_f1_score(preds,y_real):\n",
    "    f1=[]\n",
    "    for i in range(preds.shape[1]):\n",
    "        TP=preds[y_real==i,i].sum()# True Positives\n",
    "        FP=preds[y_real!=i,i].sum()# False Positives\n",
    "        ix=list(range(preds.shape[1]))\n",
    "        ix.remove(i)\n",
    "        buf=preds[:,ix]\n",
    "        FN=buf[y_real==i,:].sum()# False Negatives\n",
    "        PR=TP/(TP+FP)#   Precision\n",
    "        RE=TP/(TP+FN)#   Recall\n",
    "        f1.append(2*PR*RE/(RE+PR))\n",
    "    return f1\n",
    "# Функция расчета средней вероятности правильного определения класса\n",
    "def mean_prob0(preds,y_real):\n",
    "    prob_true=[]\n",
    "    for i in range(preds.shape[0]):\n",
    "        prob_true.append(preds[i,int(y_real[i])])\n",
    "    return np.mean(prob_true)\n",
    "# Функция визуализации результата\n",
    "def print_rez(preds,y_val1,n_class): \n",
    "    num_of_points_per_class=[]\n",
    "    for i in range(1,n_class+1):\n",
    "        num_of_points_per_class.append(np.sum(y_val1==i))\n",
    "    rez4plot=np.array((range(1,n_class+1),my_f1_score(preds,y_val1-1),num_of_points_per_class)).T\n",
    "    plt.figure(figsize=(14, 6))\n",
    "    plt.subplot(2,1,1)\n",
    "    plt.bar(rez4plot[:,0],rez4plot[:,1])\n",
    "    plt.ylabel('f1-score');\n",
    "    plt.subplot(2,1,2)\n",
    "    plt.bar(rez4plot[:,0],rez4plot[:,2],color=list(0.8*np.ones(n_class)),edgecolor='red')\n",
    "    plt.ylabel('number of points');\n",
    "    plt.xlabel('№ class');\n",
    "    plt.show()\n",
    "    return rez4plot"
   ]
  },
  {
   "cell_type": "markdown",
   "metadata": {},
   "source": [
    "#### LightGBM"
   ]
  },
  {
   "cell_type": "code",
   "execution_count": 8,
   "metadata": {},
   "outputs": [
    {
     "name": "stdout",
     "output_type": "stream",
     "text": [
      "LightGBM (CrossVal):\n",
      "\tf1-score (mean):\t0.653\n",
      "\tright probability:\t0.6551\n"
     ]
    },
    {
     "data": {
      "image/png": "[encoded data removed]",
      "text/plain": [
       "<Figure size 1008x432 with 2 Axes>"
      ]
     },
     "metadata": {
      "needs_background": "light"
     },
     "output_type": "display_data"
    }
   ],
   "source": [
    "LGB_trn= lgb.Dataset(data = X, label = y-1,feature_name = [str(x) for x in list(range(X.shape[1]))])\n",
    "\n",
    "params = {'objective': 'multiclass',\n",
    "          'metric': 'multi_logloss',\n",
    "          'num_class':n_class}\n",
    "lgb_cv = lgb.cv( params, LGB_trn,\n",
    "        num_boost_round=100, nfold=5, early_stopping_rounds=10 )\n",
    "nround = lgb_cv['multi_logloss-mean'].index(np.min(lgb_cv['multi_logloss-mean']))\n",
    "\n",
    "clf_f3 = lgb.train(params, LGB_trn, num_boost_round=nround)\n",
    "preds = clf_f3.predict(X_val1)\n",
    "print('LightGBM (CrossVal):')\n",
    "print('\\tf1-score (mean):\\t' + str(np.mean(my_f1_score(preds,y_val1-1)).round(4)))\n",
    "print('\\tright probability:\\t' + str(mean_prob0(preds,y_val1-1).round(4)))\n",
    "f3_4plot=print_rez(preds,y_val1,n_class)"
   ]
  },
  {
   "cell_type": "markdown",
   "metadata": {},
   "source": [
    "### Оптимизация параметров моделей"
   ]
  },
  {
   "cell_type": "markdown",
   "metadata": {},
   "source": [
    "#### RandomForest"
   ]
  },
  {
   "cell_type": "code",
   "execution_count": 9,
   "metadata": {},
   "outputs": [
    {
     "name": "stdout",
     "output_type": "stream",
     "text": [
      "RandomizedSearchCV took 29.05 seconds for 200 candidates parameter settings.\n",
      "RandomForest (CrossVal):\n",
      "\tf1-score (mean):\t0.645\n",
      "\tright probability:\t0.6517\n"
     ]
    },
    {
     "data": {
      "image/png": "[encoded data removed]",
      "text/plain": [
       "<Figure size 1008x432 with 2 Axes>"
      ]
     },
     "metadata": {
      "needs_background": "light"
     },
     "output_type": "display_data"
    }
   ],
   "source": [
    "# Подбор оптимальных параметров случайным образом\n",
    "clf_rf = RandomForestClassifier(criterion='gini')\n",
    "\n",
    "param_dist = {\"n_estimators\": list(150+np.array(list(range(0,4)))*50),\n",
    "              \"max_depth\": [3, 5, 7, 9],\n",
    "              \"min_samples_split\": sp_randint(2+int(0.01*X.shape[0]),int(0.1*X.shape[0])),\n",
    "              \"bootstrap\": [True, False]}\n",
    "\n",
    "n_iter_search = 200\n",
    "rs_rf= RandomizedSearchCV( clf_rf,n_jobs=5, param_distributions=param_dist,\n",
    "                                     n_iter=n_iter_search, cv=5, iid=False, random_state=12345)\n",
    "\n",
    "start = time.time()\n",
    "rs_rf.fit(X, y-1)\n",
    "print(\"RandomizedSearchCV took %.2f seconds for %d candidates\"\n",
    "      \" parameter settings.\" % ((time.time() - start), n_iter_search))\n",
    "clf_rf_2=rs_rf.best_estimator_\n",
    "preds=clf_rf_2.predict_proba(X_val1)\n",
    "rf_2_score=np.mean([np.mean(my_f1_score(preds,y_val1-1)),mean_prob0(preds,y_val1-1)])\n",
    "# Применение подобранных параметров\n",
    "clf_rf_1 = RandomForestClassifier(criterion='gini', bootstrap=rs_rf.best_params_['bootstrap'],\n",
    "          max_depth=rs_rf.best_params_['max_depth'], min_samples_split=rs_rf.best_params_['min_samples_split'],\n",
    "           n_estimators=rs_rf.best_params_['n_estimators'], random_state=12345)\n",
    "clf_rf_1.fit(X, y-1)\n",
    "preds=clf_rf_1.predict_proba(X_val1)\n",
    "rf_1_score=np.mean([np.mean(my_f1_score(preds,y_val1-1)),mean_prob0(preds,y_val1-1)])\n",
    "if rf_1_score>rf_2_score: # Выбор лучшего из двух\n",
    "    clf_f1=clf_rf_1\n",
    "else:\n",
    "    clf_f1=clf_rf_2\n",
    "print('RandomForest (CrossVal):')\n",
    "print('\\tf1-score (mean):\\t' + str(np.mean(my_f1_score(preds,y_val1-1)).round(4)))\n",
    "print('\\tright probability:\\t' + str(mean_prob0(preds,y_val1-1).round(4)))\n",
    "f1_4plot=print_rez(preds,y_val1,n_class)"
   ]
  },
  {
   "cell_type": "markdown",
   "metadata": {
    "scrolled": true
   },
   "source": [
    "#### SVC"
   ]
  },
  {
   "cell_type": "code",
   "execution_count": 10,
   "metadata": {},
   "outputs": [
    {
     "name": "stderr",
     "output_type": "stream",
     "text": [
      "C:\\Users\\Volk\\Anaconda3\\lib\\site-packages\\sklearn\\model_selection\\_search.py:271: UserWarning: The total space of parameters 60 is smaller than n_iter=500. Running 60 iterations. For exhaustive searches, use GridSearchCV.\n",
      "  % (grid_size, self.n_iter, grid_size), UserWarning)\n"
     ]
    },
    {
     "name": "stdout",
     "output_type": "stream",
     "text": [
      "RandomizedSearchCV took 0.44 seconds for 500 candidates parameter settings.\n",
      "SVC (CrossVal):\n",
      "\tf1-score (mean):\t0.6285\n",
      "\tright probability:\t0.6472\n"
     ]
    },
    {
     "data": {
      "image/png": "[encoded data removed]",
      "text/plain": [
       "<Figure size 1008x432 with 2 Axes>"
      ]
     },
     "metadata": {
      "needs_background": "light"
     },
     "output_type": "display_data"
    }
   ],
   "source": [
    "# Подбор оптимальных параметров случайным образом\n",
    "clf_svm = SVC(probability=True, decision_function_shape='ovo', random_state=12345)\n",
    "\n",
    "param_dist = {\"C\": np.arange(2, 10, 2),\n",
    "            \"degree\": np.arange(2, 5),\n",
    "             \"gamma\": np.arange(0.1, 1, 0.2)}\n",
    "\n",
    "n_iter_search = 500\n",
    "rs_svm= RandomizedSearchCV( clf_svm,n_jobs=5, param_distributions=param_dist,\n",
    "                                     n_iter=n_iter_search, cv=5, iid=False, random_state=12345)\n",
    "start = time.time()\n",
    "rs_svm.fit(X, y-1)\n",
    "print(\"RandomizedSearchCV took %.2f seconds for %d candidates\"\n",
    "      \" parameter settings.\" % ((time.time() - start), n_iter_search))\n",
    "clf_svm_2=rs_svm.best_estimator_\n",
    "preds=clf_svm_2.predict_proba(X_val1)\n",
    "svm_2_score=np.mean([np.mean(my_f1_score(preds,y_val1-1)),mean_prob0(preds,y_val1-1)])\n",
    "rs_svm.best_params_\n",
    "# Применение подобранных параметров\n",
    "clf_svm_1 = SVC(probability=True, decision_function_shape='ovo', C=rs_svm.best_params_['C'],\n",
    "          gamma=rs_svm.best_params_['gamma'], degree=rs_svm.best_params_['degree'], random_state=12345)\n",
    "clf_svm_1.fit(X, y-1)\n",
    "preds=clf_svm_1.predict_proba(X_val1)\n",
    "svm_1_score=np.mean([np.mean(my_f1_score(preds,y_val1-1)),mean_prob0(preds,y_val1-1)])\n",
    "if svm_1_score>svm_2_score: # Выбор лучшего из двух\n",
    "    clf_f2=clf_svm_1\n",
    "else:\n",
    "    clf_f2=clf_svm_2\n",
    "print('SVC (CrossVal):')\n",
    "print('\\tf1-score (mean):\\t' + str(np.mean(my_f1_score(preds,y_val1-1)).round(4)))\n",
    "print('\\tright probability:\\t' + str(mean_prob0(preds,y_val1-1).round(4)))\n",
    "f2_4plot=print_rez(preds,y_val1,n_class)"
   ]
  },
  {
   "cell_type": "markdown",
   "metadata": {},
   "source": [
    "### Обучение Метоалгоритма"
   ]
  },
  {
   "cell_type": "code",
   "execution_count": 11,
   "metadata": {},
   "outputs": [],
   "source": [
    "# Подготовка выборок для мета алгоритма\n",
    "X_meta_trn=np.concatenate((clf_f1.predict_proba(X),\n",
    "                            clf_f2.predict_proba(X),\n",
    "                             clf_f3.predict(X)),axis=1)\n",
    "X_meta_tst=np.concatenate((clf_f1.predict_proba(X_val1),\n",
    "                            clf_f2.predict_proba(X_val1),\n",
    "                             clf_f3.predict(X_val1)),axis=1)\n",
    "y_meta_trn=y\n",
    "y_meta_tst=y_val1"
   ]
  },
  {
   "cell_type": "code",
   "execution_count": 14,
   "metadata": {},
   "outputs": [
    {
     "name": "stderr",
     "output_type": "stream",
     "text": [
      "C:\\Users\\Volk\\Anaconda3\\lib\\site-packages\\sklearn\\model_selection\\_search.py:271: UserWarning: The total space of parameters 168 is smaller than n_iter=1000. Running 168 iterations. For exhaustive searches, use GridSearchCV.\n",
      "  % (grid_size, self.n_iter, grid_size), UserWarning)\n"
     ]
    },
    {
     "name": "stdout",
     "output_type": "stream",
     "text": [
      "RandomizedSearchCV took 1.16 seconds for 1000 candidates parameter settings.\n",
      "LogReg (MetaAlgo):\n",
      "\tf1-score (mean):\t0.6732\n",
      "\tright probability:\t0.6757\n"
     ]
    },
    {
     "data": {
      "image/png": "[encoded data removed]",
      "text/plain": [
       "<Figure size 1008x432 with 2 Axes>"
      ]
     },
     "metadata": {
      "needs_background": "light"
     },
     "output_type": "display_data"
    }
   ],
   "source": [
    "clf_meta = LogisticRegression(random_state=12345)\n",
    "#clf_meta.fit(X_meta_trn, y_meta_trn-1)\n",
    "#preds=clf_meta.predict_proba(X_meta_tst)\n",
    "#[np.mean(my_f1_score(preds,y_meta_tst-1)),mean_prob0(preds,y_meta_tst-1)]\n",
    "\n",
    "param_dist = {\"C\": np.arange(3, 10, 0.5),\n",
    "              \"solver\": ['newton-cg','sag','saga','lbfgs'],\n",
    "              \"multi_class\": ['ovr','multinomial','auto'],}\n",
    "\n",
    "n_iter_search = 1000\n",
    "rs_meta= RandomizedSearchCV( clf_meta,n_jobs=5, param_distributions=param_dist,\n",
    "                                     n_iter=n_iter_search, cv=5, iid=False, random_state=12345)\n",
    "\n",
    "start = time.time()\n",
    "rs_meta.fit(X_meta_trn, y_meta_trn-1)\n",
    "print(\"RandomizedSearchCV took %.2f seconds for %d candidates\"\n",
    "      \" parameter settings.\" % ((time.time() - start), n_iter_search))\n",
    "clf_meta=rs_meta.best_estimator_\n",
    "preds=clf_meta.predict_proba(X_meta_tst)\n",
    "meta_score=np.mean([np.mean(my_f1_score(preds,y_meta_tst-1)),mean_prob0(preds,y_meta_tst-1)])\n",
    "\n",
    "print('LogReg (MetaAlgo):')\n",
    "print('\\tf1-score (mean):\\t' + str(np.mean(my_f1_score(preds,y_val1-1)).round(4)))\n",
    "print('\\tright probability:\\t' + str(mean_prob0(preds,y_val1-1).round(4)))\n",
    "fmeta_4plot=print_rez(preds,y_val1,n_class)"
   ]
  },
  {
   "cell_type": "markdown",
   "metadata": {},
   "source": [
    "### Выводы:\n",
    "###### 1. Идея работает: итоговое качество мета алгоритма лучше чем у каждого метода по отдельности\n",
    "###### 2. Подход с подбором оптимальных параметров RandomizedSearchCV нужно менять: на малой выборке (120 образцов) этот подход еще работает, но на большой (32000) уже нет т.к. драматически увеличивается время расчета в кросс валидации.\n",
    "###### 3. Выявлен самый ресурсоемкий метод - это Random Forest. (время расчета ~10 раз больше чем у остальных)\n",
    "### Дальнейшие планы\n",
    "###### 1. Вместо RandomizedSearchCV использовать простой цикл с подбором параметров но без крос валидации а с проверкой на отложенной (тестовой) выборке.\n",
    "###### 2. Улучшить общее качество работы: На этапе предподготовки данных заменить псевдо-оптимальный выбор характерных скважин (центров подвыборок) на оптимальный. Поиск оптимальных осуществлять внутри каждого класса решая задачу кластеризации (в качестве X данных использовать матрицу взоимных растояний от каждой скважины до остальных)."
   ]
  }
 ],
 "metadata": {
  "kernelspec": {
   "display_name": "Python 3",
   "language": "python",
   "name": "python3"
  },
  "language_info": {
   "codemirror_mode": {
    "name": "ipython",
    "version": 3
   },
   "file_extension": ".py",
   "mimetype": "text/x-python",
   "name": "python",
   "nbconvert_exporter": "python",
   "pygments_lexer": "ipython3",
   "version": "3.7.3"
  }
 },
 "nbformat": 4,
 "nbformat_minor": 2
}
