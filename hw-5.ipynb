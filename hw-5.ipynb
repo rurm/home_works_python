{
 "cells": [
  {
   "cell_type": "markdown",
   "metadata": {},
   "source": [
    "### Задание 1\n",
    "Создайте numpy array с элементами от числа N до 0 (например, для N = 10 это будет array([9, 8, 7, 6, 5, 4, 3, 2, 1, 0]))."
   ]
  },
  {
   "cell_type": "code",
   "execution_count": 1,
   "metadata": {},
   "outputs": [
    {
     "name": "stdout",
     "output_type": "stream",
     "text": [
      "Массив от 4 до 0: [4 3 2 1 0]\n"
     ]
    }
   ],
   "source": [
    "import numpy as np\n",
    "N=5\n",
    "mas1=np.arange( N-1, -1 , -1 )\n",
    "print('Массив от ' + str(N-1) + ' до 0: ' +  str(mas1))"
   ]
  },
  {
   "cell_type": "markdown",
   "metadata": {},
   "source": [
    "### Задание 2\n",
    "Создайте диагональную матрицу с элементами от N до 0. Посчитайте сумму ее значений на диагонали."
   ]
  },
  {
   "cell_type": "code",
   "execution_count": 2,
   "metadata": {},
   "outputs": [
    {
     "name": "stdout",
     "output_type": "stream",
     "text": [
      "Единичная матрица с элементами из предыдущего задандания по диагонали:\n",
      "[[4 0 0 0 0]\n",
      " [0 3 0 0 0]\n",
      " [0 0 2 0 0]\n",
      " [0 0 0 1 0]\n",
      " [0 0 0 0 0]]\n",
      "Сумма диагональных элементов: 10\n"
     ]
    }
   ],
   "source": [
    "mas2=np.diag(mas1, k=0)\n",
    "print('Единичная матрица с элементами из предыдущего задандания по диагонали:')\n",
    "print(mas2)\n",
    "print('Сумма диагональных элементов: ' + str(sum(sum(mas2))))"
   ]
  },
  {
   "cell_type": "markdown",
   "metadata": {},
   "source": [
    "### Задание 3\n",
    "Скачайте с сайта https://grouplens.org/datasets/movielens/ датасет любого размера. Определите какому фильму было выставлено больше всего оценок 5.0."
   ]
  },
  {
   "cell_type": "code",
   "execution_count": 3,
   "metadata": {},
   "outputs": [],
   "source": [
    "import pandas as pd\n",
    "ratings = pd.read_csv('ratings.csv')\n",
    "list_of_best=(ratings.query('rating >= {}'.format(5)).filter(items = ['userId'])['userId'].unique())\n",
    "### Сначала создадим список(pandas) фильмов  с наивысшими оценоками пользователей - list_of_best ###\n",
    "list_of_film_ratings=list(list_of_best)\n",
    "### Затем подсчитаем сколько пользователей оценило фильмы из списка list_of_best и сохраним результат в список - list_of_film_ratings ###\n",
    "i=0\n",
    "for x in list_of_best:\n",
    "    list_of_film_ratings[i]=( list_of_film_ratings[i], len(ratings.query('userId == {}'.format(x)).filter(items = ['userId'])) )\n",
    "    i=i+1\n",
    "list_of_film_ratings = np.array(list_of_film_ratings)\n",
    "### Теперь отсортируем список list_of_film_ratings по количеству оценок за тот или иной фильм и найдем id фильма с наибольшим количеством - best_of_the_best_ID ###\n",
    "best_of_the_best_ID=int(list_of_film_ratings[list_of_film_ratings[:,1].argsort()][-1][0])\n",
    "best_of_the_best_num=int(list_of_film_ratings[list_of_film_ratings[:,1].argsort()][-1][1])"
   ]
  },
  {
   "cell_type": "code",
   "execution_count": 4,
   "metadata": {},
   "outputs": [
    {
     "name": "stdout",
     "output_type": "stream",
     "text": [
      "Лучшим фильмом по мнению 2391 людей (2.39% от общего числа) является:\n",
      "                         title\n",
      "490  Surviving the Game (1994)\n"
     ]
    }
   ],
   "source": [
    "movies = pd.read_csv('movies.csv')\n",
    "### И наконец найдем best_of_the_best_ID в массиве movies и выведем на экран название фильма с наибольшим количеством наивысших оценок пользователей ###\n",
    "print('Лучшим фильмом по мнению ' + str(best_of_the_best_num) + ' людей (' + str(round(10000*best_of_the_best_num/len(ratings))/100) + '% от общего числа) является:')\n",
    "print(movies.query('movieId == {}'.format(best_of_the_best_ID)).filter(items = ['title']))"
   ]
  },
  {
   "cell_type": "markdown",
   "metadata": {},
   "source": [
    "### Задание 4\n",
    "По данным файла power.csv посчитайте суммарное потребление стран Прибалтики (Латвия, Литва и Эстония) категорий 4, 12 и 21 за период с 2005 по 2010 года. Не учитывайте в расчетах отрицательные значения quantity."
   ]
  },
  {
   "cell_type": "code",
   "execution_count": 5,
   "metadata": {},
   "outputs": [
    {
     "name": "stdout",
     "output_type": "stream",
     "text": [
      "Сумма по указанным ограничениям равна: 240481\n"
     ]
    }
   ],
   "source": [
    "power = pd.read_csv('power.csv')\n",
    "buf=power.query('country == \"Lithuania\" or country == \"Latvia\" or country == \"Estonia\"').query('year >= 2005 and year <= 2010').query('category == 4 or category == 12 or category == 21').filter(items = ['quantity'])\n",
    "sum_of_quantity=0\n",
    "for x in buf.values.tolist():\n",
    "   sum_of_quantity=sum_of_quantity+x[0]\n",
    "print('Сумма по указанным ограничениям равна: ' + str(int(sum_of_quantity)))"
   ]
  },
  {
   "cell_type": "markdown",
   "metadata": {},
   "source": [
    "### Задание 5\n",
    "Решите систему уравнений:\n",
    "\\begin{equation*}\n",
    "4x + 2y + z = 4 \\\\\n",
    "x + 3y = 12 \\\\\n",
    "5y + 4z = -3\n",
    "\\end{equation*}"
   ]
  },
  {
   "cell_type": "code",
   "execution_count": 6,
   "metadata": {},
   "outputs": [
    {
     "name": "stdout",
     "output_type": "stream",
     "text": [
      "Решение уравнения это вектор [x,y,z] равный: [ 0.46666667  3.84444444 -5.55555556]\n"
     ]
    }
   ],
   "source": [
    "a = np.array( [ [4, 2, 1], [1, 3, 0], [0, 5, 4] ] )\n",
    "b = np.array( [4, 12, -3] )\n",
    "from numpy import linalg\n",
    "print('Решение уравнения это вектор [x,y,z] равный: ' + str(linalg.solve(a, b)))"
   ]
  }
 ],
 "metadata": {
  "kernelspec": {
   "display_name": "Python 3",
   "language": "python",
   "name": "python3"
  },
  "language_info": {
   "codemirror_mode": {
    "name": "ipython",
    "version": 3
   },
   "file_extension": ".py",
   "mimetype": "text/x-python",
   "name": "python",
   "nbconvert_exporter": "python",
   "pygments_lexer": "ipython3",
   "version": "3.6.5"
  }
 },
 "nbformat": 4,
 "nbformat_minor": 2
}
