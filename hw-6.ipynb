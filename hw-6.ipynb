{
 "cells": [
  {
   "cell_type": "markdown",
   "metadata": {},
   "source": [
    "### Задание 1\n",
    "Используем файл keywords.csv.\n",
    "\n",
    "Необходимо написать гео-классификатор, который каждой строке сможет выставить географическую принадлежность определенному региону.\n",
    "\n",
    "Т. е. если поисковый запрос содержит название города региона, то в столбце 'region' пишется название этого региона.\n",
    "\n",
    "Если поисковый запрос не содержит названия города, то ставим 'undefined'. \n",
    "\n",
    "Результат классификации запишите в отдельный столбец region."
   ]
  },
  {
   "cell_type": "code",
   "execution_count": 1,
   "metadata": {},
   "outputs": [
    {
     "name": "stdout",
     "output_type": "stream",
     "text": [
      "              keyword  shows\n",
      "5858   Дальний Восток  43038\n",
      "9084   Дальний Восток  29655\n",
      "21445  Дальний Восток  14494\n"
     ]
    }
   ],
   "source": [
    "### Правила распределения по регионам Центр, Северо-Запад и Дальний Восток: ###\n",
    "geo_data = { 'Центр':          ['москва',      'тула',    'ярославль'],\n",
    "             'Северо-Запад':   ['петербург',   'псков',   'мурманск'], \n",
    "             'Дальний Восток': ['владивосток', 'сахалин', 'хабаровск'] }\n",
    "import pandas as pd\n",
    "keywords = pd.read_csv('keywords.csv')\n",
    "keywords.head()\n",
    "for x in geo_data.items():\n",
    "    keywords['keyword'].replace(to_replace=list(x[1]), value=str(x[0]),inplace=True)\n",
    "### Проверка, удаласьли замена ###\n",
    "print(keywords.query('keyword == {}'.format(['Дальний Восток'])))"
   ]
  },
  {
   "cell_type": "markdown",
   "metadata": {},
   "source": [
    "### Задание 2\n",
    "Напишите функцию, которая классифицирует фильмы из материалов занятия по следующим правилам:\n",
    "- оценка 2 и меньше - низкий рейтинг\n",
    "- оценка 4 и меньше - средний рейтинг\n",
    "- оценка 4.5 и 5 - высокий рейтинг\n",
    " \n",
    "Результат классификации запишите в столбец class"
   ]
  },
  {
   "cell_type": "code",
   "execution_count": 2,
   "metadata": {},
   "outputs": [
    {
     "name": "stdout",
     "output_type": "stream",
     "text": [
      "Вот список фильмов с низким рейтингом:\n",
      "\n",
      "           rating\n",
      "movieId          \n",
      "87       1.666667\n",
      "96       1.000000\n",
      "137      1.000000\n",
      "181      1.800000\n",
      "439      1.000000\n",
      "Вот список фильмов с средним рейтингом:\n",
      "\n",
      "           rating\n",
      "movieId          \n",
      "1        3.872470\n",
      "2        3.401869\n",
      "3        3.161017\n",
      "4        2.384615\n",
      "5        3.267857\n",
      "Вот список фильмов с высоким рейтингом:\n",
      "\n",
      "         rating\n",
      "movieId        \n",
      "53        5.000\n",
      "80        4.625\n",
      "116       4.750\n",
      "130       4.500\n",
      "178       4.700\n"
     ]
    }
   ],
   "source": [
    "ratings = pd.read_csv('ratings.csv')\n",
    "def movies_classification(input0):\n",
    "    rez=[input0.filter(items = ['movieId','rating']).groupby('movieId').agg('mean').query('rating <{}'.format([2])),\\\n",
    "         input0.filter(items = ['movieId','rating']).groupby('movieId').agg('mean').query('rating >={} & rating <{}'.format([2],[4.5])),\\\n",
    "         input0.filter(items = ['movieId','rating']).groupby('movieId').agg('mean').query('rating >={}'.format([4.5]))]\n",
    "    return rez;\n",
    "\n",
    "rez0=movies_classification(ratings)\n",
    "print('Вот список фильмов с низким рейтингом:\\n')\n",
    "print(rez0[0].head())\n",
    "print('Вот список фильмов с средним рейтингом:\\n')\n",
    "print(rez0[1].head())\n",
    "print('Вот список фильмов с высоким рейтингом:\\n')\n",
    "print(rez0[2].head())"
   ]
  },
  {
   "cell_type": "markdown",
   "metadata": {},
   "source": [
    "### Задание 3\n",
    "Посчитайте среднее значение Lifetime киноманов (пользователи, которые поставили 100 и более рейтингов).\n",
    "\n",
    "Под Lifetime понимается разница между максимальным и минимальным значением timestamp для каждого пользователя.\n",
    "\n",
    "Ответ дайте в днях."
   ]
  },
  {
   "cell_type": "code",
   "execution_count": 3,
   "metadata": {},
   "outputs": [
    {
     "name": "stdout",
     "output_type": "stream",
     "text": [
      "Среднее занчение времени \"жизни\" пользователей с достаточно большим числом оценок (>100) равна:\n",
      "mean    1.135359e+09\n",
      "dtype: float64\n"
     ]
    }
   ],
   "source": [
    "buf=ratings.filter(items = ['userId','timestamp']).groupby('userId').agg(['count','mean']).timestamp\n",
    "print('Среднее занчение времени \"жизни\" пользователей с достаточно большим числом оценок (>100) равна:\\n' + str(buf.query('count >={}'.format([100])).filter(items = ['mean']).mean()))"
   ]
  },
  {
   "cell_type": "markdown",
   "metadata": {},
   "source": [
    "### Задание 4\n",
    "Есть мнение, что \"раньше снимали настоящее кино, не то что сейчас\". Ваша задача проверить это утверждение, используя файлы с рейтингами фильмов из материалов занятия. Т. е. проверить верно ли, что с ростом года выпуска фильма его средний рейтинг становится ниже.\n",
    " \n",
    "При этом мы не будем затрагивать субьективные факторы выставления этих рейтингов, а пройдемся по следующему алгоритму:\n",
    " \n",
    "1. В переменную years запишите список из всех годов с 1950 по 2010.\n",
    " \n",
    "2. Напишите функцию production_year, которая каждой строке из названия фильма выставляет год выпуска. Не все названия фильмов содержат год выпуска в одинаковом формате, поэтому используйте следующий алгоритм:\n",
    "- для каждой строки пройдите по всем годам списка years\n",
    "- если номер года присутствует в названии фильма, то функция возвращает этот год как год выпуска\n",
    "- если ни один из номеров года списка years не встретился в названии фильма, то возвращается 1900 год\n",
    " \n",
    "3. Запишите год выпуска фильма по алгоритму пункта 2 в новый столбец 'year'\n",
    " \n",
    "4. Посчитайте средний рейтинг всех фильмов для каждого значения столбца 'year' и отсортируйте результат по убыванию рейтинга"
   ]
  },
  {
   "cell_type": "code",
   "execution_count": 4,
   "metadata": {},
   "outputs": [],
   "source": [
    "movies = pd.read_csv('movies.csv')\n",
    "### создание списка рассматриваемых годов ###\n",
    "years=[]\n",
    "y=1950\n",
    "while y<=2010:\n",
    "    years.append(y)\n",
    "    y=y+1\n",
    "### функция возвращающая год по имени фильма ###\n",
    "def production_year(film_name,years):\n",
    "    Years0=1900\n",
    "    for x in years:\n",
    "        buf=str(x)\n",
    "        if film_name.find(buf)>=0:\n",
    "            Years0=x\n",
    "            break\n",
    "    return Years0"
   ]
  },
  {
   "cell_type": "code",
   "execution_count": 5,
   "metadata": {},
   "outputs": [
    {
     "name": "stderr",
     "output_type": "stream",
     "text": [
      "/home/solovushka/anaconda3/lib/python3.6/site-packages/ipykernel_launcher.py:4: SettingWithCopyWarning: \n",
      "A value is trying to be set on a copy of a slice from a DataFrame\n",
      "\n",
      "See the caveats in the documentation: http://pandas.pydata.org/pandas-docs/stable/indexing.html#indexing-view-versus-copy\n",
      "  after removing the cwd from sys.path.\n"
     ]
    }
   ],
   "source": [
    "### заполнение столбца year значениями ###\n",
    "movies['year'] = 0\n",
    "for i in range(len(movies)):\n",
    "    movies['year'][i]=production_year(movies['title'][i],years)"
   ]
  },
  {
   "cell_type": "code",
   "execution_count": 6,
   "metadata": {},
   "outputs": [
    {
     "data": {
      "text/plain": [
       "year\n",
       "2007    4.021484\n",
       "1952    3.851852\n",
       "1994    3.833333\n",
       "2008    3.819838\n",
       "2006    3.808429\n",
       "Name: rating, dtype: float64"
      ]
     },
     "execution_count": 6,
     "metadata": {},
     "output_type": "execute_result"
    }
   ],
   "source": [
    "rez=movies.join(ratings, lsuffix='movieId', rsuffix='movieId').groupby('year').agg('mean').rating\n",
    "### вывод результата ###\n",
    "rez.sort_values(ascending=False).head()"
   ]
  }
 ],
 "metadata": {
  "kernelspec": {
   "display_name": "Python 3",
   "language": "python",
   "name": "python3"
  },
  "language_info": {
   "codemirror_mode": {
    "name": "ipython",
    "version": 3
   },
   "file_extension": ".py",
   "mimetype": "text/x-python",
   "name": "python",
   "nbconvert_exporter": "python",
   "pygments_lexer": "ipython3",
   "version": "3.6.5"
  }
 },
 "nbformat": 4,
 "nbformat_minor": 2
}
