{
 "cells": [
  {
   "cell_type": "code",
   "execution_count": 57,
   "metadata": {},
   "outputs": [],
   "source": [
    "import pandas as pd\n",
    "import numpy as np\n",
    "import matplotlib.pyplot as plt"
   ]
  },
  {
   "cell_type": "code",
   "execution_count": 2,
   "metadata": {},
   "outputs": [],
   "source": [
    "dat=pd.read_csv('gold_mining_data.csv')"
   ]
  },
  {
   "cell_type": "code",
   "execution_count": 8,
   "metadata": {},
   "outputs": [],
   "source": [
    "un_dw=np.unique(dat.values[:,0])"
   ]
  },
  {
   "cell_type": "code",
   "execution_count": 89,
   "metadata": {},
   "outputs": [],
   "source": [
    "tool_1=[]\n",
    "tool_2=[]\n",
    "max_month=0\n",
    "for dw in un_dw:\n",
    "    d=dat.values[dat.dwarf_id==dw,:]\n",
    "    max_month=np.max([d.shape[0],max_month])\n",
    "    ix1=np.where(d[:,4]=='2014-01-01')[0]\n",
    "    ix2=np.where(d[:,4]=='2015-01-01')[0]\n",
    "    if len(ix1)>0:\n",
    "        tool_1.append(d[ix1,3].mean())\n",
    "    if len(ix2)>0:\n",
    "        tool_2.append(d[ix2,3].mean())\n",
    "tool_1=np.array(tool_1)\n",
    "tool_2=np.array(tool_2)"
   ]
  },
  {
   "cell_type": "code",
   "execution_count": 95,
   "metadata": {},
   "outputs": [
    {
     "data": {
      "text/plain": [
       "<function matplotlib.pyplot.show(*args, **kw)>"
      ]
     },
     "execution_count": 95,
     "metadata": {},
     "output_type": "execute_result"
    },
    {
     "data": {
      "image/png": "[encoded data removed]",
      "text/plain": [
       "<Figure size 1008x288 with 2 Axes>"
      ]
     },
     "metadata": {
      "needs_background": "light"
     },
     "output_type": "display_data"
    }
   ],
   "source": [
    "plt.figure(figsize=[14,4])\n",
    "plt.subplot(1,2,1)\n",
    "plt.hist(tool_1)\n",
    "plt.subplot(1,2,2)\n",
    "plt.hist(tool_2)\n",
    "plt.show"
   ]
  },
  {
   "cell_type": "code",
   "execution_count": 182,
   "metadata": {},
   "outputs": [],
   "source": [
    "tool_1=np.zeros([un_dw.shape[0],max_month])\n",
    "tool_2=np.zeros([un_dw.shape[0],max_month])\n",
    "i1=0\n",
    "i2=0\n",
    "for dw in un_dw:\n",
    "    d=dat.values[dat.dwarf_id==dw,:]\n",
    "    ix1=np.where(d[:,4]=='2014-01-01')[0]\n",
    "    ix2=np.where(d[:,4]=='2015-01-01')[0]\n",
    "    if len(ix1)>0:\n",
    "        tool_1[i1,range(ix1.shape[0])]=d[ix1,3]\n",
    "        i1=i1+1\n",
    "    if len(ix2)>0:\n",
    "        tool_2[i2,range(ix2.shape[0])]=d[ix2,3]\n",
    "        i2=i2+1\n",
    "tool_1=tool_1[:i1,:]\n",
    "tool_2=tool_2[:i2,:]"
   ]
  },
  {
   "cell_type": "code",
   "execution_count": 191,
   "metadata": {},
   "outputs": [
    {
     "data": {
      "text/plain": [
       "<function matplotlib.pyplot.show(*args, **kw)>"
      ]
     },
     "execution_count": 191,
     "metadata": {},
     "output_type": "execute_result"
    },
    {
     "data": {
      "image/png": "[encoded data removed]",
      "text/plain": [
       "<Figure size 432x288 with 1 Axes>"
      ]
     },
     "metadata": {
      "needs_background": "light"
     },
     "output_type": "display_data"
    }
   ],
   "source": [
    "plt.plot(range(max_month),tool_1.mean(axis=0),'b',range(max_month),tool_2.mean(axis=0),'r')\n",
    "plt.show"
   ]
  },
  {
   "cell_type": "markdown",
   "metadata": {},
   "source": [
    "### Вывод:\n",
    "Прежние инструменты (1 типа) в среднем имеют меньшую производительность (чем 2ой тип), более надежны (если судить по гистограмме) и более износостойкие (диградируют медленнее 2го типа если судить по графику). А вторые соответственно более производительные однако диградируют быстрее."
   ]
  },
  {
   "cell_type": "code",
   "execution_count": null,
   "metadata": {},
   "outputs": [],
   "source": []
  },
  {
   "cell_type": "code",
   "execution_count": null,
   "metadata": {},
   "outputs": [],
   "source": []
  },
  {
   "cell_type": "code",
   "execution_count": 167,
   "metadata": {},
   "outputs": [
    {
     "data": {
      "text/plain": [
       "array([[[0., 0., 0., 0., 0., 0., 0., 0., 0., 0., 0., 0., 0., 0., 0., 0.,\n",
       "         0., 0., 0., 0.],\n",
       "        [0., 0., 0., 0., 0., 0., 0., 0., 0., 0., 0., 0., 0., 0., 0., 0.,\n",
       "         0., 0., 0., 0.],\n",
       "        [0., 0., 0., 0., 0., 0., 0., 0., 0., 0., 0., 0., 0., 0., 0., 0.,\n",
       "         0., 0., 0., 0.],\n",
       "        [0., 0., 0., 0., 0., 0., 0., 0., 0., 0., 0., 0., 0., 0., 0., 0.,\n",
       "         0., 0., 0., 0.],\n",
       "        [0., 0., 0., 0., 0., 0., 0., 0., 0., 0., 0., 0., 0., 0., 0., 0.,\n",
       "         0., 0., 0., 0.],\n",
       "        [0., 0., 0., 0., 0., 0., 0., 0., 0., 0., 0., 0., 0., 0., 0., 0.,\n",
       "         0., 0., 0., 0.],\n",
       "        [0., 0., 0., 0., 0., 0., 0., 0., 0., 0., 0., 0., 0., 0., 0., 0.,\n",
       "         0., 0., 0., 0.],\n",
       "        [0., 0., 0., 0., 0., 0., 0., 0., 0., 0., 0., 0., 0., 0., 0., 0.,\n",
       "         0., 0., 0., 0.]]])"
      ]
     },
     "execution_count": 167,
     "metadata": {},
     "output_type": "execute_result"
    }
   ],
   "source": [
    "tool_2"
   ]
  },
  {
   "cell_type": "code",
   "execution_count": 71,
   "metadata": {},
   "outputs": [
    {
     "data": {
      "text/plain": [
       "['hired_date', 'reported_date', 'hammer_date']"
      ]
     },
     "execution_count": 71,
     "metadata": {},
     "output_type": "execute_result"
    }
   ],
   "source": [
    "ff = [c for c in dat.columns if c not in buffer]\n",
    "ff"
   ]
  },
  {
   "cell_type": "code",
   "execution_count": 106,
   "metadata": {},
   "outputs": [
    {
     "data": {
      "text/plain": [
       "0"
      ]
     },
     "execution_count": 106,
     "metadata": {},
     "output_type": "execute_result"
    }
   ],
   "source": [
    "ix1.shape[0]"
   ]
  },
  {
   "cell_type": "code",
   "execution_count": 86,
   "metadata": {},
   "outputs": [],
   "source": [
    "def PrintUnNumCol(df_gnomes):\n",
    "    \"\"\"Printing Function\"\"\"\n",
    "    buffer = df_gnomes._get_numeric_data()\n",
    "    CC =  [c for c in df_gnomes.columns if c not in buffer]\n",
    "\n",
    "    for col in CC:\n",
    "        print(str(df_gnomes[col].nunique()) + ' unique items in column' + col)"
   ]
  },
  {
   "cell_type": "code",
   "execution_count": 88,
   "metadata": {},
   "outputs": [
    {
     "name": "stdout",
     "output_type": "stream",
     "text": [
      "20 unique items in columnhired_date\n",
      "20 unique items in columnreported_date\n",
      "2 unique items in columnhammer_date\n"
     ]
    }
   ],
   "source": [
    "PrintUnNumCol(dat)"
   ]
  },
  {
   "cell_type": "code",
   "execution_count": null,
   "metadata": {},
   "outputs": [],
   "source": []
  }
 ],
 "metadata": {
  "kernelspec": {
   "display_name": "Python 3",
   "language": "python",
   "name": "python3"
  },
  "language_info": {
   "codemirror_mode": {
    "name": "ipython",
    "version": 3
   },
   "file_extension": ".py",
   "mimetype": "text/x-python",
   "name": "python",
   "nbconvert_exporter": "python",
   "pygments_lexer": "ipython3",
   "version": "3.7.3"
  }
 },
 "nbformat": 4,
 "nbformat_minor": 2
}
