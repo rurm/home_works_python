{
 "cells": [
  {
   "cell_type": "markdown",
   "metadata": {},
   "source": [
    "### Задание 1\n",
    "Напишите функцию date_range, которая возвращает список дней между датами start_date и end_date. Даты должны вводиться в формате YYYY-MM-DD.\n",
    "### Задание 2\n",
    "Дополните функцию из первого задания проверкой на корректность дат. В случае неверного формата или если start_date > end_date должен возвращаться пустой список."
   ]
  },
  {
   "cell_type": "code",
   "execution_count": 1,
   "metadata": {},
   "outputs": [
    {
     "name": "stdout",
     "output_type": "stream",
     "text": [
      "['2015-12-27', '2015-12-28', '2015-12-29', '2015-12-30', '2015-12-31', '2016-01-01', '2016-01-02', '2016-01-03']\n"
     ]
    }
   ],
   "source": [
    "from datetime import datetime, timedelta \n",
    "\n",
    "def print_date_list(start_date='2000-01-01',end_date='2000-01-01'):\n",
    "### фун-я создающая список дат от start_date до end_date с шагом в один день ###\n",
    "    try:\n",
    "    ### проверка корректности входных данных ###\n",
    "        start_date=datetime.strptime( start_date, '%Y-%m-%d' )\n",
    "        end_date=datetime.strptime( end_date, '%Y-%m-%d' )\n",
    "        if start_date>=end_date:\n",
    "            return []\n",
    "    except Exception as e:\n",
    "        return []\n",
    "    date_lst=[]\n",
    "    curent_date=start_date\n",
    "    while curent_date<=end_date:\n",
    "        date_lst.append(curent_date.strftime('%Y-%m-%d'))\n",
    "        curent_date=curent_date + timedelta(days=1)\n",
    "    return date_lst\n",
    "\n",
    "print(print_date_list( '2015-12-27', '2016-01-03' ))\n",
    "### проверка работы функции ###"
   ]
  },
  {
   "cell_type": "markdown",
   "metadata": {},
   "source": [
    "### Задание 3\n",
    "Дан поток дат в формате YYYY-MM-DD, в которых встречаются некорректные значения.\n",
    "Напишите функцию, которая проверяет эти даты на корректность. Т. е. для каждой даты возвращает True (дата корректна) или False (некорректная дата)."
   ]
  },
  {
   "cell_type": "code",
   "execution_count": 2,
   "metadata": {},
   "outputs": [
    {
     "name": "stdout",
     "output_type": "stream",
     "text": [
      "[True, False, False]\n"
     ]
    }
   ],
   "source": [
    "stream = ['2018-04-02', '2018-02-29', '2018-19-02']\n",
    "\n",
    "def is_date_correct(date_lst=[]):\n",
    "### фун-я проверяет список дат на корректность ###\n",
    "    flag=[]\n",
    "    for x in date_lst:\n",
    "        try:\n",
    "            datetime.strptime( x, '%Y-%m-%d' )\n",
    "            flag.append(True)\n",
    "        except Exception as e:\n",
    "            flag.append(False)\n",
    "    return flag\n",
    "\n",
    "print(is_date_correct(stream))\n",
    "### проверка работы функции ###"
   ]
  },
  {
   "cell_type": "markdown",
   "metadata": {},
   "source": [
    "### Задание 4\n",
    "Напишите функцию, которая возвращает список дат с 1 по вчерашний день текущего месяца. Если дан 1 день месяца, то возвращается список дней прошлого месяца."
   ]
  },
  {
   "cell_type": "code",
   "execution_count": 3,
   "metadata": {},
   "outputs": [
    {
     "data": {
      "text/plain": [
       "['2018-02-06',\n",
       " '2018-02-05',\n",
       " '2018-02-04',\n",
       " '2018-02-03',\n",
       " '2018-02-02',\n",
       " '2018-02-01']"
      ]
     },
     "execution_count": 3,
     "metadata": {},
     "output_type": "execute_result"
    }
   ],
   "source": [
    "def month_date_list(curent_date=''):\n",
    "    curent_date=datetime.strptime( curent_date, '%Y-%m-%d' )\n",
    "    day_num1=int(curent_date.strftime('%d'))\n",
    "    if day_num1==1:\n",
    "        ### проверка на первый день месяца, если это так, то взять за ачальную дату конец предыдущего месяца ###\n",
    "        curent_date=curent_date - timedelta(days=1)\n",
    "        day_num1=int(curent_date.strftime('%d'))\n",
    "    previous_day=curent_date - timedelta(days=1)\n",
    "    day_num0=int(previous_day.strftime('%d'))\n",
    "    date_lst=[]\n",
    "    while day_num0<day_num1:\n",
    "        day_num1=day_num0\n",
    "        curent_date=previous_day\n",
    "        date_lst.append(curent_date.strftime('%Y-%m-%d'))\n",
    "        previous_day=curent_date - timedelta(days=1)\n",
    "        day_num0=int(previous_day.strftime('%d'))\n",
    "    return date_lst\n",
    "\n",
    "month_date_list('2018-02-07')\n",
    "### проверка работы функции ###"
   ]
  },
  {
   "cell_type": "markdown",
   "metadata": {},
   "source": [
    "### Задание 5\n",
    "Напишите функцию, которая возвращает точную дату в формате YYYY-MM-DD по фразе:\n",
    "1. 'today' - сегодняшнюю дату\n",
    "2. 'last monday' -  прошлый понедельник\n",
    "3. 'last day' - Последний день текущего месяца"
   ]
  },
  {
   "cell_type": "code",
   "execution_count": 4,
   "metadata": {},
   "outputs": [
    {
     "name": "stdout",
     "output_type": "stream",
     "text": [
      "2018-09-12\n",
      "2018-09-10\n",
      "2018-09-30\n",
      "2018-09-01\n"
     ]
    }
   ],
   "source": [
    "def what_day(ask=''):\n",
    "    today0=datetime.today()\n",
    "    if ask=='today':\n",
    "        return today0.strftime('%Y-%m-%d')\n",
    "    elif ask=='last monday':\n",
    "        week_day_num=today0\n",
    "        while week_day_num.weekday()!=0:\n",
    "        ### перебор дне недели в обратном порядке до понедельника ###\n",
    "            week_day_num=week_day_num - timedelta(days=1)\n",
    "        return week_day_num.strftime('%Y-%m-%d')\n",
    "    elif ask=='last day':\n",
    "        if int(today0.strftime('%d'))==1:\n",
    "            ### проверка не является ли сегоднешний день первым днем месяца ###\n",
    "            month_day_num=today0 + timedelta(days=1)\n",
    "        else:\n",
    "            month_day_num=today0\n",
    "        while int(month_day_num.strftime('%d'))!=1:\n",
    "            ### перебор дней месяца до первого дня следующего ###\n",
    "            month_day_num=month_day_num + timedelta(days=1)\n",
    "        month_day_num=month_day_num - timedelta(days=1)\n",
    "        return month_day_num.strftime('%Y-%m-%d')\n",
    "    elif ask=='first day':\n",
    "            if int(today0.strftime('%d'))==1:\n",
    "                ### проверка не является ли сегоднешний день первым днем месяца ###\n",
    "                return today0.strftime('%Y-%m-%d')\n",
    "            else:\n",
    "                month_day_num=today0\n",
    "            while int(month_day_num.strftime('%d'))!=1:\n",
    "                ### перебор дней месяца до первого дня ###\n",
    "                month_day_num=month_day_num - timedelta(days=1)\n",
    "            return month_day_num.strftime('%Y-%m-%d')\n",
    "    return ''\n",
    "\n",
    "print(what_day('today'))\n",
    "print(what_day('last monday'))\n",
    "print(what_day('last day'))\n",
    "print(what_day('first day'))\n",
    "### проверка работы функции ###"
   ]
  },
  {
   "cell_type": "markdown",
   "metadata": {},
   "source": [
    "### Задание 6\n",
    "Напишите функцию, которая разбивает на недели с понедельника по воскресенье интервал дат между start_date и end_date. Считайте, что входные данные всегда корректны. В ответ должны входить только полные недели."
   ]
  },
  {
   "cell_type": "code",
   "execution_count": 5,
   "metadata": {},
   "outputs": [
    {
     "data": {
      "text/plain": [
       "[['2018-09-10',\n",
       "  '2018-09-11',\n",
       "  '2018-09-12',\n",
       "  '2018-09-13',\n",
       "  '2018-09-14',\n",
       "  '2018-09-15',\n",
       "  '2018-09-16'],\n",
       " [['2018-09-17',\n",
       "   '2018-09-18',\n",
       "   '2018-09-19',\n",
       "   '2018-09-20',\n",
       "   '2018-09-21',\n",
       "   '2018-09-22',\n",
       "   '2018-09-23']],\n",
       " [['2018-09-24',\n",
       "   '2018-09-25',\n",
       "   '2018-09-26',\n",
       "   '2018-09-27',\n",
       "   '2018-09-28',\n",
       "   '2018-09-29',\n",
       "   '2018-09-30']]]"
      ]
     },
     "execution_count": 5,
     "metadata": {},
     "output_type": "execute_result"
    }
   ],
   "source": [
    "def week_date_list(start_date='2000-01-01',end_date='2000-01-01'):\n",
    "    ### сначала определим первый понедельник в выбранном диапазоне - first_day ###\n",
    "    first_day=datetime.strptime( start_date, '%Y-%m-%d' )\n",
    "    while first_day.weekday()!=0:\n",
    "        first_day=first_day + timedelta(days=1)\n",
    "    ### теперь определим последнее воскресенье в выбранном диапазоне - last_day ###\n",
    "    ### используем функцию из задания 5 - what_day ###\n",
    "    last_day=datetime.strptime( what_day('last day'), '%Y-%m-%d' )\n",
    "    while last_day.weekday()!=6:\n",
    "        last_day=last_day - timedelta(days=1)\n",
    "    curent_day=first_day\n",
    "    while curent_day<last_day:\n",
    "        week_last_day=curent_day + timedelta(days=6)\n",
    "        ### для перечисления дней недели используем функцию из задания 1,2 - print_date_list ###\n",
    "        if 'date_lst' in locals():\n",
    "            date_lst.append([print_date_list(curent_day.strftime('%Y-%m-%d'),week_last_day.strftime('%Y-%m-%d'))])\n",
    "        else:\n",
    "            date_lst=[print_date_list(curent_day.strftime('%Y-%m-%d'),week_last_day.strftime('%Y-%m-%d'))]\n",
    "        curent_day=week_last_day + timedelta(days=1)\n",
    "    return date_lst\n",
    "### проверка работы функции ###\n",
    "week_date_list('2018-09-7','2018-09-26')"
   ]
  }
 ],
 "metadata": {
  "kernelspec": {
   "display_name": "Python 3",
   "language": "python",
   "name": "python3"
  },
  "language_info": {
   "codemirror_mode": {
    "name": "ipython",
    "version": 3
   },
   "file_extension": ".py",
   "mimetype": "text/x-python",
   "name": "python",
   "nbconvert_exporter": "python",
   "pygments_lexer": "ipython3",
   "version": "3.6.5"
  }
 },
 "nbformat": 4,
 "nbformat_minor": 2
}
