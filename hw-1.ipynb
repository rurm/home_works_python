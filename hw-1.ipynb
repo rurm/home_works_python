{
 "cells": [
  {
   "cell_type": "code",
   "execution_count": 1,
   "metadata": {},
   "outputs": [],
   "source": [
    "import math"
   ]
  },
  {
   "cell_type": "code",
   "execution_count": 2,
   "metadata": {},
   "outputs": [
    {
     "name": "stdout",
     "output_type": "stream",
     "text": [
      "1. Даны 2 строки long_phrase и short_phrase. Напишите код, который проверяет действительно ли длинная фраза long_phrase длиннее короткой short_phrase. И выводит True или False в зависимости от результата сравнения.\n"
     ]
    }
   ],
   "source": [
    "print(\"1. Даны 2 строки long_phrase и short_phrase. Напишите код, который проверяет действительно ли длинная фраза long_phrase длиннее короткой short_phrase. И выводит True или False в зависимости от результата сравнения.\")\n",
    "long_phrase = 'Насколько проще было бы писать программы, если бы не заказчики'\n",
    "short_phrase = '640Кб должно хватить для любых задач. Билл Гейтс (по легенде)'"
   ]
  },
  {
   "cell_type": "code",
   "execution_count": 3,
   "metadata": {},
   "outputs": [
    {
     "data": {
      "text/plain": [
       "True"
      ]
     },
     "execution_count": 3,
     "metadata": {},
     "output_type": "execute_result"
    }
   ],
   "source": [
    "len(long_phrase)>len(short_phrase)"
   ]
  },
  {
   "cell_type": "code",
   "execution_count": 4,
   "metadata": {},
   "outputs": [
    {
     "name": "stdout",
     "output_type": "stream",
     "text": [
      "2. Дана строка text. Определите какая из двух букв встречается в нем чаще - 'а' или 'и'.\n"
     ]
    }
   ],
   "source": [
    "print(\"2. Дана строка text. Определите какая из двух букв встречается в нем чаще - 'а' или 'и'.\")\n",
    "text = 'Если программист в 9-00 утра на работе, значит, он там и ночевал'"
   ]
  },
  {
   "cell_type": "code",
   "execution_count": 5,
   "metadata": {},
   "outputs": [
    {
     "name": "stdout",
     "output_type": "stream",
     "text": [
      "В строке 'text' чаще встречается буква 'а' (чем 'и')\n"
     ]
    }
   ],
   "source": [
    "couter_a=0\n",
    "couter_i=0\n",
    "for i in range(len(text)):\n",
    "    if  (text[i] == 'а'):\n",
    "        couter_a=couter_a+1\n",
    "    if  (text[i] == 'и'):\n",
    "        couter_i=couter_i+1\n",
    "couter_a\n",
    "couter_i\n",
    "if couter_a>couter_i:\n",
    "    print(\"В строке 'text' чаще встречается буква 'а' (чем 'и')\")\n",
    "elif couter_a<couter_i:\n",
    "    print(\"В строке 'text' чаще встречается буква 'и' (чем 'а')\")\n",
    "else:\n",
    "    print(\"В строке 'text' буквы 'а' и 'и' встречаются одинаковое число раз\")"
   ]
  },
  {
   "cell_type": "code",
   "execution_count": 6,
   "metadata": {},
   "outputs": [
    {
     "name": "stdout",
     "output_type": "stream",
     "text": [
      "3. Дано значение объема файла в байтах. Напишите перевод этого значения в мегабайты\n"
     ]
    }
   ],
   "source": [
    "print(\"3. Дано значение объема файла в байтах. Напишите перевод этого значения в мегабайты\")\n",
    "file_size_bytes=320237889;"
   ]
  },
  {
   "cell_type": "code",
   "execution_count": 7,
   "metadata": {},
   "outputs": [
    {
     "name": "stdout",
     "output_type": "stream",
     "text": [
      "Объем файла равен 320.24Mb\n"
     ]
    }
   ],
   "source": [
    "print('Объем файла равен ' + str(round(file_size_bytes/10000)/100) + 'Mb')"
   ]
  },
  {
   "cell_type": "code",
   "execution_count": 8,
   "metadata": {},
   "outputs": [
    {
     "name": "stdout",
     "output_type": "stream",
     "text": [
      "4. Выведите на экран значение синуса 30 градусов с помощью метода math.sin.\n"
     ]
    }
   ],
   "source": [
    "print(\"4. Выведите на экран значение синуса 30 градусов с помощью метода math.sin.\")"
   ]
  },
  {
   "cell_type": "code",
   "execution_count": 9,
   "metadata": {},
   "outputs": [
    {
     "name": "stdout",
     "output_type": "stream",
     "text": [
      "sin(30) = 0.5\n"
     ]
    }
   ],
   "source": [
    "print(\"sin(30) = \" + str(round(math.sin(math.pi/6)*10**10)/10**10))"
   ]
  },
  {
   "cell_type": "code",
   "execution_count": 10,
   "metadata": {},
   "outputs": [
    {
     "name": "stdout",
     "output_type": "stream",
     "text": [
      "5. В прошлом задании у вас скорее всего не получилось точного значения 0.5 из-за конечной точности вычисления синуса. Но почему некоторые простые операции также могут давать неточный результат? Попробуйте вывести на экран результат операции 0.1 + 0.2\n"
     ]
    }
   ],
   "source": [
    "print(\"5. В прошлом задании у вас скорее всего не получилось точного значения 0.5 из-за конечной точности вычисления синуса. Но почему некоторые простые операции также могут давать неточный результат? Попробуйте вывести на экран результат операции 0.1 + 0.2\")"
   ]
  },
  {
   "cell_type": "code",
   "execution_count": 11,
   "metadata": {},
   "outputs": [
    {
     "name": "stdout",
     "output_type": "stream",
     "text": [
      "0.1 + 0.2 = 0.30000000000000004\n"
     ]
    }
   ],
   "source": [
    "print ('0.1 + 0.2 = ' + str(.1+.2))"
   ]
  },
  {
   "cell_type": "code",
   "execution_count": 12,
   "metadata": {},
   "outputs": [
    {
     "name": "stdout",
     "output_type": "stream",
     "text": [
      "Попробуем округлить: round((0.1 + 0.2)*10^10)/10^10 = 0.3\n"
     ]
    }
   ],
   "source": [
    "print(\"Попробуем округлить: round((0.1 + 0.2)*10^10)/10^10 = \" + str(round((.1+.2)*10**10)/10**10) )"
   ]
  },
  {
   "cell_type": "code",
   "execution_count": 13,
   "metadata": {},
   "outputs": [
    {
     "name": "stdout",
     "output_type": "stream",
     "text": [
      "В переменных a и b записаны 2 различных числа. Вам необходимо написать код, который меняет значения a и b местами без использования третьей переменной.\n"
     ]
    }
   ],
   "source": [
    "print(\"В переменных a и b записаны 2 различных числа. Вам необходимо написать код, который меняет значения a и b местами без использования третьей переменной.\")"
   ]
  },
  {
   "cell_type": "code",
   "execution_count": 14,
   "metadata": {},
   "outputs": [
    {
     "name": "stdout",
     "output_type": "stream",
     "text": [
      "a = 12345\n",
      "b = 67890\n",
      "b = 12345\n",
      "a = 67890\n"
     ]
    }
   ],
   "source": [
    "a=12345\n",
    "print('a = ' + str(a))\n",
    "b=67890\n",
    "print('b = ' + str(b))\n",
    "for i in range(2,15):\n",
    "    if a%(10**i) == a:\n",
    "        a=a*10**(i)+b\n",
    "        b=int((a-a%(10**(i)))/(10**(i)))\n",
    "        print('b = ' + str(b))\n",
    "        a=a%(10**(i))\n",
    "        print('a = ' + str(a))\n",
    "        break\n"
   ]
  },
  {
   "cell_type": "code",
   "execution_count": 15,
   "metadata": {},
   "outputs": [
    {
     "name": "stdout",
     "output_type": "stream",
     "text": [
      "Дано число в двоичной системе счисления: num=10011. Напишите алгоритм перевода этого числа в привычную нам десятичную систему счисления.\n"
     ]
    }
   ],
   "source": [
    "print(\"Дано число в двоичной системе счисления: num=10011. Напишите алгоритм перевода этого числа в привычную нам десятичную систему счисления.\")"
   ]
  },
  {
   "cell_type": "code",
   "execution_count": 17,
   "metadata": {},
   "outputs": [
    {
     "name": "stdout",
     "output_type": "stream",
     "text": [
      "num02 = 10011\n",
      "num10 = 25\n"
     ]
    }
   ],
   "source": [
    "num2=10011\n",
    "print('num02 = ' + str(num2))\n",
    "str_num=str(num2)\n",
    "num10=0;\n",
    "for i in range(len(str_num)):\n",
    "    if str_num[len(str_num)-i-1] == '1':\n",
    "        num10=num10+2**(len(str_num)-i-1)\n",
    "print('num10 = ' + str(num10))"
   ]
  }
 ],
 "metadata": {
  "kernelspec": {
   "display_name": "Python 3",
   "language": "python",
   "name": "python3"
  },
  "language_info": {
   "codemirror_mode": {
    "name": "ipython",
    "version": 3
   },
   "file_extension": ".py",
   "mimetype": "text/x-python",
   "name": "python",
   "nbconvert_exporter": "python",
   "pygments_lexer": "ipython3",
   "version": "3.6.5"
  }
 },
 "nbformat": 4,
 "nbformat_minor": 2
}
