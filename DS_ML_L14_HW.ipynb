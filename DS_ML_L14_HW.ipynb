{
 "cells": [
  {
   "cell_type": "code",
   "execution_count": 1,
   "metadata": {},
   "outputs": [],
   "source": [
    "import pandas as pd\n",
    "import numpy as np\n",
    "import matplotlib.pyplot as plt\n",
    "from sklearn.preprocessing import StandardScaler\n",
    "from sklearn.preprocessing import PolynomialFeatures\n",
    "from sklearn import linear_model\n",
    "from sklearn.model_selection import ShuffleSplit\n",
    "from sklearn.model_selection import KFold\n",
    "from scipy import stats\n",
    "from sklearn.decomposition import PCA\n",
    "import timeit\n",
    "from sklearn.model_selection import RandomizedSearchCV"
   ]
  },
  {
   "cell_type": "code",
   "execution_count": 2,
   "metadata": {},
   "outputs": [
    {
     "data": {
      "text/html": [
       "<div>\n",
       "<style scoped>\n",
       "    .dataframe tbody tr th:only-of-type {\n",
       "        vertical-align: middle;\n",
       "    }\n",
       "\n",
       "    .dataframe tbody tr th {\n",
       "        vertical-align: top;\n",
       "    }\n",
       "\n",
       "    .dataframe thead th {\n",
       "        text-align: right;\n",
       "    }\n",
       "</style>\n",
       "<table border=\"1\" class=\"dataframe\">\n",
       "  <thead>\n",
       "    <tr style=\"text-align: right;\">\n",
       "      <th></th>\n",
       "      <th>CRIM</th>\n",
       "      <th>ZN</th>\n",
       "      <th>INDUS</th>\n",
       "      <th>CHAS</th>\n",
       "      <th>NOX</th>\n",
       "      <th>RM</th>\n",
       "      <th>AGE</th>\n",
       "      <th>DIS</th>\n",
       "      <th>RAD</th>\n",
       "      <th>TAX</th>\n",
       "      <th>PTRATIO</th>\n",
       "      <th>B</th>\n",
       "      <th>LSTAT</th>\n",
       "    </tr>\n",
       "  </thead>\n",
       "  <tbody>\n",
       "    <tr>\n",
       "      <th>0</th>\n",
       "      <td>0.00632</td>\n",
       "      <td>18.0</td>\n",
       "      <td>2.31</td>\n",
       "      <td>0.0</td>\n",
       "      <td>0.538</td>\n",
       "      <td>6.575</td>\n",
       "      <td>65.2</td>\n",
       "      <td>4.0900</td>\n",
       "      <td>1.0</td>\n",
       "      <td>296.0</td>\n",
       "      <td>15.3</td>\n",
       "      <td>396.90</td>\n",
       "      <td>4.98</td>\n",
       "    </tr>\n",
       "    <tr>\n",
       "      <th>1</th>\n",
       "      <td>0.02731</td>\n",
       "      <td>0.0</td>\n",
       "      <td>7.07</td>\n",
       "      <td>0.0</td>\n",
       "      <td>0.469</td>\n",
       "      <td>6.421</td>\n",
       "      <td>78.9</td>\n",
       "      <td>4.9671</td>\n",
       "      <td>2.0</td>\n",
       "      <td>242.0</td>\n",
       "      <td>17.8</td>\n",
       "      <td>396.90</td>\n",
       "      <td>9.14</td>\n",
       "    </tr>\n",
       "    <tr>\n",
       "      <th>2</th>\n",
       "      <td>0.02729</td>\n",
       "      <td>0.0</td>\n",
       "      <td>7.07</td>\n",
       "      <td>0.0</td>\n",
       "      <td>0.469</td>\n",
       "      <td>7.185</td>\n",
       "      <td>61.1</td>\n",
       "      <td>4.9671</td>\n",
       "      <td>2.0</td>\n",
       "      <td>242.0</td>\n",
       "      <td>17.8</td>\n",
       "      <td>392.83</td>\n",
       "      <td>4.03</td>\n",
       "    </tr>\n",
       "    <tr>\n",
       "      <th>3</th>\n",
       "      <td>0.03237</td>\n",
       "      <td>0.0</td>\n",
       "      <td>2.18</td>\n",
       "      <td>0.0</td>\n",
       "      <td>0.458</td>\n",
       "      <td>6.998</td>\n",
       "      <td>45.8</td>\n",
       "      <td>6.0622</td>\n",
       "      <td>3.0</td>\n",
       "      <td>222.0</td>\n",
       "      <td>18.7</td>\n",
       "      <td>394.63</td>\n",
       "      <td>2.94</td>\n",
       "    </tr>\n",
       "    <tr>\n",
       "      <th>4</th>\n",
       "      <td>0.06905</td>\n",
       "      <td>0.0</td>\n",
       "      <td>2.18</td>\n",
       "      <td>0.0</td>\n",
       "      <td>0.458</td>\n",
       "      <td>7.147</td>\n",
       "      <td>54.2</td>\n",
       "      <td>6.0622</td>\n",
       "      <td>3.0</td>\n",
       "      <td>222.0</td>\n",
       "      <td>18.7</td>\n",
       "      <td>396.90</td>\n",
       "      <td>5.33</td>\n",
       "    </tr>\n",
       "  </tbody>\n",
       "</table>\n",
       "</div>"
      ],
      "text/plain": [
       "      CRIM    ZN  INDUS  CHAS    NOX     RM   AGE     DIS  RAD    TAX  \\\n",
       "0  0.00632  18.0   2.31   0.0  0.538  6.575  65.2  4.0900  1.0  296.0   \n",
       "1  0.02731   0.0   7.07   0.0  0.469  6.421  78.9  4.9671  2.0  242.0   \n",
       "2  0.02729   0.0   7.07   0.0  0.469  7.185  61.1  4.9671  2.0  242.0   \n",
       "3  0.03237   0.0   2.18   0.0  0.458  6.998  45.8  6.0622  3.0  222.0   \n",
       "4  0.06905   0.0   2.18   0.0  0.458  7.147  54.2  6.0622  3.0  222.0   \n",
       "\n",
       "   PTRATIO       B  LSTAT  \n",
       "0     15.3  396.90   4.98  \n",
       "1     17.8  396.90   9.14  \n",
       "2     17.8  392.83   4.03  \n",
       "3     18.7  394.63   2.94  \n",
       "4     18.7  396.90   5.33  "
      ]
     },
     "execution_count": 2,
     "metadata": {},
     "output_type": "execute_result"
    }
   ],
   "source": [
    "from sklearn.datasets import load_boston\n",
    "boston  = load_boston()\n",
    "boston.feature_names\n",
    "data=pd.DataFrame(boston.data,columns=boston.feature_names)\n",
    "y=pd.DataFrame(boston.target,columns=['target'])\n",
    "data.head(5)"
   ]
  },
  {
   "cell_type": "code",
   "execution_count": 3,
   "metadata": {},
   "outputs": [
    {
     "name": "stderr",
     "output_type": "stream",
     "text": [
      "C:\\ProgramData\\Anaconda3\\lib\\site-packages\\pandas\\core\\frame.py:3697: SettingWithCopyWarning: \n",
      "A value is trying to be set on a copy of a slice from a DataFrame\n",
      "\n",
      "See the caveats in the documentation: http://pandas.pydata.org/pandas-docs/stable/indexing.html#indexing-view-versus-copy\n",
      "  errors=errors)\n"
     ]
    }
   ],
   "source": [
    "# Предпроцессинг\n",
    "scaler_y = StandardScaler()\n",
    "scaler_y.fit(y)\n",
    "y = scaler_y.transform(y)\n",
    "y = pd.DataFrame(y, columns=['target'])\n",
    "\n",
    "X=data[:]\n",
    "columns4normolize=X[:]\n",
    "columns4normolize.drop(['CHAS','ZN','RAD'], axis=1, inplace=True)\n",
    "scaler_X = StandardScaler()\n",
    "scaler_X.fit(columns4normolize)\n",
    "X_scaled = scaler_X.transform(columns4normolize)\n",
    "X_scaled = pd.DataFrame(X_scaled, columns=columns4normolize.columns)\n",
    "for col in columns4normolize.columns:\n",
    "    X[col]=X_scaled[col]\n",
    "X = pd.get_dummies(X, columns=['ZN', 'RAD'])\n",
    "# Деление на тестовую и обучающую выборки\n",
    "# Начиная осюда будем брать за основу для подбора параметров и оптимизации ix_trn\n",
    "# ix_tst отложим до самого конца, когда будут произведены все настройки моделей и можно будет провести итоговое сравнение\n",
    "sss = ShuffleSplit(n_splits=1, test_size=0.1)\n",
    "sss.get_n_splits(X, y)\n",
    "trn_ix, tst_ix = next(sss.split(X, y)) "
   ]
  },
  {
   "cell_type": "code",
   "execution_count": 4,
   "metadata": {},
   "outputs": [],
   "source": [
    "# Функция оценки качества построения линейной регрессии для разбиении на k главных компанент.\n",
    "def calc_rezult(X,y,trn_ix,tst_ix,k):\n",
    "    pca=PCA(n_components=k)\n",
    "    X2 = pca.fit_transform(X)\n",
    "    model = linear_model.LinearRegression()\n",
    "    model.fit( X2[trn_ix], y.values[trn_ix] )\n",
    "    y_pred = model.predict(X2[tst_ix])\n",
    "    mse=(np.square(y.values[tst_ix] - y_pred)).mean()\n",
    "    corr=np.corrcoef(y.values[tst_ix].transpose().tolist()[0],y_pred.transpose().tolist()[0])[0][1]\n",
    "    return [mse,corr]"
   ]
  },
  {
   "cell_type": "code",
   "execution_count": 5,
   "metadata": {},
   "outputs": [
    {
     "name": "stdout",
     "output_type": "stream",
     "text": [
      "MSE\n"
     ]
    },
    {
     "data": {
      "image/png": "[encoded data removed]",
      "text/plain": [
       "<Figure size 432x288 with 1 Axes>"
      ]
     },
     "metadata": {
      "needs_background": "light"
     },
     "output_type": "display_data"
    },
    {
     "name": "stdout",
     "output_type": "stream",
     "text": [
      "correlation\n"
     ]
    },
    {
     "data": {
      "image/png": "[encoded data removed]",
      "text/plain": [
       "<Figure size 432x288 with 1 Axes>"
      ]
     },
     "metadata": {
      "needs_background": "light"
     },
     "output_type": "display_data"
    },
    {
     "name": "stdout",
     "output_type": "stream",
     "text": [
      "time\n"
     ]
    },
    {
     "data": {
      "image/png": "[encoded data removed]",
      "text/plain": [
       "<Figure size 432x288 with 1 Axes>"
      ]
     },
     "metadata": {
      "needs_background": "light"
     },
     "output_type": "display_data"
    }
   ],
   "source": [
    "# Так как количиство фичей большое (~40) проведем простой анализ МГК\n",
    "n_kfold=9\n",
    "kf = KFold(n_splits=n_kfold, random_state=5, shuffle=True)\n",
    "x_exp=np.arange(2,int(X.shape[1])-10,1);\n",
    "y_exp=np.array([np.zeros(x_exp.shape[0]),np.zeros(x_exp.shape[0]),np.zeros(x_exp.shape[0])])\n",
    "stop = timeit.default_timer()\n",
    "k=0;\n",
    "for i in x_exp:\n",
    "    j=0;\n",
    "    buf1=np.zeros(n_kfold)\n",
    "    buf2=np.zeros(n_kfold)\n",
    "    buf3=np.zeros(n_kfold)\n",
    "    for trn_ix2, tst_ix2 in kf.split(X.values[trn_ix],y.values[trn_ix]):\n",
    "        start = timeit.default_timer()\n",
    "        buf1[j], buf2[j]=calc_rezult(X,y,trn_ix2,tst_ix2,i)\n",
    "        stop = timeit.default_timer()\n",
    "        buf3[j]=stop-start\n",
    "        j=j+1\n",
    "    y_exp[0][k]=np.exp(np.log10(buf1).mean())\n",
    "    y_exp[1][k]=buf2.mean()\n",
    "    y_exp[2][k]=buf3.mean()\n",
    "    k=k+1;\n",
    "plt.plot(x_exp,y_exp[0],'ro--')\n",
    "print('MSE')\n",
    "plt.show()\n",
    "plt.plot(x_exp,y_exp[1],'bo--')\n",
    "print('correlation')\n",
    "plt.show()\n",
    "plt.plot(x_exp,y_exp[2],'go--')\n",
    "print('time')\n",
    "plt.show()"
   ]
  },
  {
   "cell_type": "markdown",
   "metadata": {},
   "source": [
    "#### Оптимальное количесто ГК - 14."
   ]
  },
  {
   "cell_type": "code",
   "execution_count": 6,
   "metadata": {},
   "outputs": [],
   "source": [
    "pca=PCA(n_components=14)\n",
    "X_pca = pca.fit_transform(X)\n",
    "y=y.values"
   ]
  },
  {
   "cell_type": "code",
   "execution_count": 7,
   "metadata": {},
   "outputs": [],
   "source": [
    "def method_LR(X,y,trn_ix,tst_ix,n):\n",
    "    poly = PolynomialFeatures(degree=n)\n",
    "    X_ = poly.fit_transform(X[trn_ix])\n",
    "    X_pred_ = poly.fit_transform(X[tst_ix])\n",
    "    clf = linear_model.LinearRegression()\n",
    "    result=clf.fit(X_, y[trn_ix])\n",
    "    corr=np.corrcoef(y[tst_ix].transpose().tolist()[0],clf.predict(X_pred_).transpose().tolist()[0])[0][1]\n",
    "    mse=(np.square(y[tst_ix] - clf.predict(X_pred_))).mean()\n",
    "    return [mse,corr]   "
   ]
  },
  {
   "cell_type": "code",
   "execution_count": 8,
   "metadata": {},
   "outputs": [
    {
     "name": "stdout",
     "output_type": "stream",
     "text": [
      "MSE\n"
     ]
    },
    {
     "data": {
      "image/png": "[encoded data removed]",
      "text/plain": [
       "<Figure size 432x288 with 1 Axes>"
      ]
     },
     "metadata": {
      "needs_background": "light"
     },
     "output_type": "display_data"
    },
    {
     "name": "stdout",
     "output_type": "stream",
     "text": [
      "correlation\n"
     ]
    },
    {
     "data": {
      "image/png": "[encoded data removed]",
      "text/plain": [
       "<Figure size 432x288 with 1 Axes>"
      ]
     },
     "metadata": {
      "needs_background": "light"
     },
     "output_type": "display_data"
    },
    {
     "name": "stdout",
     "output_type": "stream",
     "text": [
      "time\n"
     ]
    },
    {
     "data": {
      "image/png": "[encoded data removed]",
      "text/plain": [
       "<Figure size 432x288 with 1 Axes>"
      ]
     },
     "metadata": {
      "needs_background": "light"
     },
     "output_type": "display_data"
    }
   ],
   "source": [
    "# Произведем анализ влияния степени полинома на качество зависимости\n",
    "n_kfold=9\n",
    "kf = KFold(n_splits=n_kfold, random_state=5, shuffle=True)\n",
    "x_exp=np.arange(1,5,1)\n",
    "y_exp=np.array([np.zeros(x_exp.shape[0]),np.zeros(x_exp.shape[0]),np.zeros(x_exp.shape[0])])\n",
    "k=0\n",
    "for i in x_exp:\n",
    "    buf1=np.zeros(n_kfold)\n",
    "    buf2=np.zeros(n_kfold)\n",
    "    buf3=np.zeros(n_kfold)\n",
    "    j=0\n",
    "    for trn_ix2, tst_ix2 in kf.split(X_pca[trn_ix],y[trn_ix]):\n",
    "        start = timeit.default_timer()\n",
    "        buf1[j], buf2[j]=method_LR(X_pca,y,trn_ix2,tst_ix2,i)\n",
    "        stop = timeit.default_timer()\n",
    "        buf3[j]=stop-start\n",
    "        j=j+1\n",
    "    y_exp[0][k]=np.exp(np.log10(buf1).mean())\n",
    "    y_exp[1][k]=buf2.mean()\n",
    "    y_exp[2][k]=buf3.mean()\n",
    "    k=k+1;\n",
    "plt.plot(x_exp,y_exp[0],'ro--')\n",
    "print('MSE')\n",
    "plt.show()\n",
    "plt.plot(x_exp,y_exp[1],'bo--')\n",
    "print('correlation')\n",
    "plt.show()\n",
    "plt.plot(x_exp,y_exp[2],'go--')\n",
    "print('time')\n",
    "plt.show()"
   ]
  },
  {
   "cell_type": "markdown",
   "metadata": {},
   "source": [
    "### Итого лучший результат достигается при n = 2 (степень полинома)"
   ]
  },
  {
   "cell_type": "code",
   "execution_count": 9,
   "metadata": {},
   "outputs": [],
   "source": [
    "param_dist=dict(alpha=list(( np.arange(0.1,1.01,0.01) )**10))\n",
    "lr_model = linear_model.Lasso()\n",
    "rr_model=linear_model.Ridge()"
   ]
  },
  {
   "cell_type": "code",
   "execution_count": 10,
   "metadata": {},
   "outputs": [
    {
     "name": "stdout",
     "output_type": "stream",
     "text": [
      "Score: -0.24393502066020942\n",
      "{'alpha': 0.003620333314568895}\n"
     ]
    }
   ],
   "source": [
    "lr_best=RandomizedSearchCV(lr_model, param_dist,cv=9,scoring='neg_median_absolute_error',n_iter=11,n_jobs=4)\n",
    "lr_best.fit(X_pca[trn_ix],y[trn_ix])\n",
    "print('Score: ' + str(lr_best.best_score_))\n",
    "print(lr_best.best_params_)"
   ]
  },
  {
   "cell_type": "code",
   "execution_count": 11,
   "metadata": {},
   "outputs": [
    {
     "name": "stdout",
     "output_type": "stream",
     "text": [
      "Score: -0.24558366236057305\n",
      "{'alpha': 9.536743164062468e-07}\n"
     ]
    }
   ],
   "source": [
    "rr_best=RandomizedSearchCV(rr_model, param_dist,cv=9,scoring='neg_median_absolute_error',n_iter=11,n_jobs=4)\n",
    "rr_best.fit(X_pca[trn_ix],y[trn_ix])\n",
    "print('Score: ' + str(rr_best.best_score_))\n",
    "print(rr_best.best_params_)"
   ]
  },
  {
   "cell_type": "code",
   "execution_count": 12,
   "metadata": {},
   "outputs": [],
   "source": [
    "def LassoOrRidgeRegression(X, y, trn_ix,tst_ix, model_alpha,v):\n",
    "    if v<1:\n",
    "        clf = linear_model.Lasso(model_alpha)\n",
    "        clf.fit(X[trn_ix], y[trn_ix])\n",
    "        y_pred = clf.predict(X[tst_ix])\n",
    "    else:\n",
    "        clf = linear_model.Ridge(model_alpha)\n",
    "        clf.fit(X[trn_ix], y[trn_ix])\n",
    "        y_pred = clf.predict(X[tst_ix]).transpose()[0]\n",
    "    y_tst = y[tst_ix].transpose()[0]\n",
    "    mse=(np.square(y_tst - y_pred)).mean()\n",
    "    corr=np.corrcoef(y_pred,y_tst)[0][1]\n",
    "    return [mse,corr]"
   ]
  },
  {
   "cell_type": "code",
   "execution_count": 13,
   "metadata": {},
   "outputs": [
    {
     "name": "stdout",
     "output_type": "stream",
     "text": [
      "\t LinPolynom \t Lasso \t\t Ridge\n",
      "MSE: \t0.1187\t\t0.5473\t\t0.5397\n",
      "Corr: \t0.9382\t\t0.6712\t\t0.6787\n",
      "time: \t0.018335\t0.001373\t0.001464\n"
     ]
    }
   ],
   "source": [
    "time0 = timeit.default_timer()\n",
    "mse_lp,corr_lp = method_LR(X_pca,y,trn_ix,tst_ix,2)\n",
    "time1 = timeit.default_timer()\n",
    "mse_lp,corr_lp = method_LR(X_pca,y,trn_ix,tst_ix,2)\n",
    "time2 = timeit.default_timer()\n",
    "mse_lr,corr_lr = LassoOrRidgeRegression(X_pca,y,trn_ix,tst_ix, lr_best.best_params_['alpha'],0)\n",
    "time3 = timeit.default_timer()\n",
    "mse_rr,corr_rr = LassoOrRidgeRegression(X_pca,y,trn_ix,tst_ix, lr_best.best_params_['alpha'],1)\n",
    "time4 = timeit.default_timer()\n",
    "print('\\t LinPolynom \\t Lasso \\t\\t Ridge')\n",
    "print('MSE: \\t' + str(round(mse_lp,4)) + '\\t\\t' + str(round(mse_lr,4)) + '\\t\\t' + str(round(mse_rr,4)) )\n",
    "print('Corr: \\t' + str(round(corr_lp,4)) + '\\t\\t' + str(round(corr_lr,4)) + '\\t\\t' + str(round(corr_rr,4)) )\n",
    "print('time: \\t' + str(round(time2-time1,6)) + '\\t' + str(round(time3-time2,6)) + '\\t' + str(round(time4-time3,6)) )"
   ]
  },
  {
   "cell_type": "markdown",
   "metadata": {},
   "source": [
    "### В итогу лучшим методом регрессии становится полиномиальная (степени 2)"
   ]
  },
  {
   "cell_type": "markdown",
   "metadata": {},
   "source": [
    "Я планирую выполнить домашние задания \"Ансамблированию\" и \"Функциям потерь и оптимизации\" в срок до 27.12.18. Так как официальный срок сдачи уже истек и я не могу разместить ссылку на сайте нетология, я буду скидывать ссылки на питхаб Вам в Слак. Прошу Вас проверить и поставить мне зачет по итогам на сайте \"нетологии\". Спасибо."
   ]
  }
 ],
 "metadata": {
  "kernelspec": {
   "display_name": "Python 3",
   "language": "python",
   "name": "python3"
  },
  "language_info": {
   "codemirror_mode": {
    "name": "ipython",
    "version": 3
   },
   "file_extension": ".py",
   "mimetype": "text/x-python",
   "name": "python",
   "nbconvert_exporter": "python",
   "pygments_lexer": "ipython3",
   "version": "3.7.0"
  }
 },
 "nbformat": 4,
 "nbformat_minor": 2
}
