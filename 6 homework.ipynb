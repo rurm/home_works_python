{
 "cells": [
  {
   "cell_type": "markdown",
   "metadata": {},
   "source": [
    "# Домашнее задание к занятию 2.1: Деревья решений. Классификация"
   ]
  },
  {
   "cell_type": "markdown",
   "metadata": {},
   "source": [
    "## Домашнее задание"
   ]
  },
  {
   "cell_type": "markdown",
   "metadata": {},
   "source": [
    "**Lvl 1:**\n",
    "\n",
    "* взять подготовленные раннее данные из задачи **Titanic**, обучиться на них с помощью дерева решений и кросс-валидации и сделать сабмит\n",
    "* кросс-валидацию желательно сделать сразу по нескольким фичам ( параметр *grid* в *GridSearchCV* )\n",
    "* определить самые важные фичи\n",
    "* вывести дерево решений (можете попробовать установить pydot и webgraphviz для отрисовки деревьев внутри ноутбука)\n",
    "\n",
    "**Результат:** скрины нового сабмита на Kaggle и построенного дерева"
   ]
  },
  {
   "cell_type": "markdown",
   "metadata": {},
   "source": [
    "**Lvl 2:** (опционально)\n",
    "\n",
    "* С помощью функций sklearn.metrics.auc, precision, recall составить функцию для расчёта ROC-AUC, ROC-PRC\n",
    "* Придумать себе интересную задачу на основе данных из интернета =) Спарсить ещё какой-нибудь сайт (не Ведомости) и решить задачу классификации. Делать свои проекты - круто. Если будут - кидайте мне =) [@NikitaKuznetsov](http://t.me/NikitaKuznesov)"
   ]
  },
  {
   "cell_type": "markdown",
   "metadata": {},
   "source": [
    "Импорт билиотек"
   ]
  },
  {
   "cell_type": "code",
   "execution_count": 1,
   "metadata": {},
   "outputs": [],
   "source": [
    "import numpy as np\n",
    "import pandas as pd\n",
    "import matplotlib.pyplot as plt\n",
    "from sklearn import decomposition\n",
    "from sklearn.decomposition import PCA\n",
    "from sklearn.linear_model import LogisticRegression\n",
    "from sklearn.metrics import accuracy_score as accuracy\n",
    "from sklearn.metrics import precision_score as precision\n",
    "from sklearn.metrics import recall_score as recall\n",
    "from sklearn.preprocessing import Imputer\n",
    "from sklearn.preprocessing import StandardScaler\n",
    "from sklearn.model_selection import StratifiedKFold\n",
    "from scipy.stats.mstats import gmean"
   ]
  },
  {
   "cell_type": "markdown",
   "metadata": {},
   "source": [
    "Считывание и предобработка данных. Подготовка к работе."
   ]
  },
  {
   "cell_type": "code",
   "execution_count": 2,
   "metadata": {},
   "outputs": [],
   "source": [
    "# Считывание данных\n",
    "train = pd.read_csv('.\\\\titanic\\\\train.csv')\n",
    "test = pd.read_csv('.\\\\titanic\\\\test.csv')\n",
    "# Выделение столбца с целевыми значениями\n",
    "y_train = train.Survived\n",
    "train.drop('Survived', axis=1, inplace=True)\n",
    "# Объединение данных train и test для облегчения дальнейшей обработки\n",
    "train['is_test'] = 0\n",
    "test['is_test'] = 1\n",
    "df = pd.concat([train, test])\n",
    "# Избавление от не информативных или тяжело интерпритируемых столбцов данных.\n",
    "df[\"isMale\"] = df.Sex.replace({\"male\": 1, \"female\":0})\n",
    "df.drop([\"Sex\", \"Cabin\", \"Ticket\", \"Name\", \"PassengerId\"], axis=1, inplace=True)\n",
    "# Избавление от котегорийных элементов. Трансформация их в матрицу с бинарными столбцами.\n",
    "df_dummies = pd.get_dummies(df, columns=['Pclass', 'Embarked'])\n",
    "X_train = df_dummies[df_dummies.is_test==0].drop('is_test', axis=1)\n",
    "X_test = df_dummies[df_dummies.is_test==1].drop('is_test', axis=1)\n",
    "# Заполнентие пустых значений/\n",
    "columns = X_train.columns\n",
    "imputer = Imputer(missing_values='NaN', strategy='mean', axis=0, verbose=0, copy=True)\n",
    "imputer.fit(X_train)\n",
    "X_train_imputed = imputer.transform(X_train)\n",
    "X_train_imputed = pd.DataFrame(X_train_imputed, columns=columns)\n",
    "# Нормировка\n",
    "scaler = StandardScaler()\n",
    "scaler.fit(X_train_imputed)\n",
    "X_train_imputed_scaled = scaler.transform(X_train_imputed)\n",
    "X_train_imputed_scaled = pd.DataFrame(X_train_imputed_scaled, columns=columns)\n",
    "X_test_imputed_scaled = scaler.transform(imputer.transform(X_test))"
   ]
  },
  {
   "cell_type": "markdown",
   "metadata": {},
   "source": [
    "Метод главных компонент. Определение оптимального количества компонент."
   ]
  },
  {
   "cell_type": "code",
   "execution_count": 3,
   "metadata": {},
   "outputs": [],
   "source": [
    "# Функция оценки качества построения дерева решений для разбиении на k главных компанент.\n",
    "def calc_rezult(X,y,k):\n",
    "    pca=decomposition.PCA(n_components=k)\n",
    "    X2 = pca.fit_transform(X)\n",
    "    model = LogisticRegression()\n",
    "    model.fit( X2, y )\n",
    "    y_pred = model.predict(X2)\n",
    "    return [accuracy(y_train, y_pred), precision(y_train, y_pred), recall(y_train, y_pred)]"
   ]
  },
  {
   "cell_type": "code",
   "execution_count": 4,
   "metadata": {},
   "outputs": [
    {
     "data": {
      "image/png": "[encoded data removed]",
      "text/plain": [
       "<Figure size 432x288 with 1 Axes>"
      ]
     },
     "metadata": {
      "needs_background": "light"
     },
     "output_type": "display_data"
    }
   ],
   "source": [
    "x_exp=np.arange(2,X_train_imputed_scaled.shape[1]-1);\n",
    "y_exp=np.array([np.zeros(x_exp.shape[0]),np.zeros(x_exp.shape[0]),np.zeros(x_exp.shape[0])])\n",
    "k=0;\n",
    "for i in x_exp:\n",
    "    y_exp[0][k] , y_exp[1][k] , y_exp[2][k] =calc_rezult(X_train_imputed_scaled,y_train,x_exp[k])\n",
    "    k=k+1;\n",
    "y_exp    \n",
    "plt.plot(x_exp,y_exp[0],'ro--')\n",
    "plt.plot(x_exp,y_exp[1],'bo--')\n",
    "plt.plot(x_exp,y_exp[2],'go--')\n",
    "plt.show()"
   ]
  },
  {
   "cell_type": "markdown",
   "metadata": {},
   "source": [
    "Как можно видеть на графике оптимальное число главных компонент 6."
   ]
  },
  {
   "cell_type": "code",
   "execution_count": 5,
   "metadata": {},
   "outputs": [
    {
     "data": {
      "text/plain": [
       "(891,)"
      ]
     },
     "execution_count": 5,
     "metadata": {},
     "output_type": "execute_result"
    }
   ],
   "source": [
    "pca=decomposition.PCA(n_components=6)\n",
    "X_train_new=pca.fit_transform(X_train_imputed_scaled)\n",
    "X_test_new=pca.fit_transform(X_test_imputed_scaled)\n",
    "# В качестве метрики сравнения в дальнейшем будем использовать среднегеометрическое от accuracy,precision и recall.\n",
    "pca_metric=gmean(calc_rezult(X_train_new,y_train,6),axis=0)\n",
    "y_train.shape"
   ]
  },
  {
   "cell_type": "markdown",
   "metadata": {},
   "source": [
    "Определение степени важности фичей."
   ]
  },
  {
   "cell_type": "code",
   "execution_count": 6,
   "metadata": {},
   "outputs": [],
   "source": [
    "# Функция оценки качества построения дерева решений.\n",
    "def calc_rezult2(X,y):\n",
    "    model = LogisticRegression()\n",
    "    model.fit( X2, y )\n",
    "    y_pred = model.predict(X2)\n",
    "    return [accuracy(y_train, y_pred), precision(y_train, y_pred), recall(y_train, y_pred)]"
   ]
  },
  {
   "cell_type": "code",
   "execution_count": 7,
   "metadata": {},
   "outputs": [
    {
     "name": "stdout",
     "output_type": "stream",
     "text": [
      "[ 4  0  2  1  9  5  6  7  8 10  3]\n"
     ]
    },
    {
     "data": {
      "text/plain": [
       "[<matplotlib.lines.Line2D at 0xb1a3780>]"
      ]
     },
     "execution_count": 7,
     "metadata": {},
     "output_type": "execute_result"
    },
    {
     "data": {
      "image/png": "[encoded data removed]",
      "text/plain": [
       "<Figure size 432x288 with 1 Axes>"
      ]
     },
     "metadata": {
      "needs_background": "light"
     },
     "output_type": "display_data"
    }
   ],
   "source": [
    "# Определение порядка значимостикомпонент\n",
    "\n",
    "x_exp=np.arange(0,X_train_imputed_scaled.shape[1])\n",
    "y_exp=np.array(np.zeros(x_exp.shape[0]))\n",
    "k=0;\n",
    "num_rep=1;\n",
    "for i in x_exp:\n",
    "    X2 = np.delete(X_train_imputed_scaled.values,(i), axis=1)\n",
    "    y_exp[k] =gmean(calc_rezult2(X2,y_train),axis=0)\n",
    "    k=k+1;\n",
    "ix=(y_exp).argsort()\n",
    "print(ix)\n",
    "plt.plot(x_exp,y_exp[ix],'go--')"
   ]
  },
  {
   "cell_type": "markdown",
   "metadata": {},
   "source": [
    "Теперь будем увеличивать количество фичей, начиная с самых значимых, до тех пор пока метрика качества не сравнится с результатом полученным по методуглавных компанент (k=6)."
   ]
  },
  {
   "cell_type": "code",
   "execution_count": 8,
   "metadata": {},
   "outputs": [
    {
     "data": {
      "image/png": "[encoded data removed]",
      "text/plain": [
       "<Figure size 432x288 with 1 Axes>"
      ]
     },
     "metadata": {
      "needs_background": "light"
     },
     "output_type": "display_data"
    }
   ],
   "source": [
    "x_exp=np.arange(1,X_train_imputed_scaled.shape[1])\n",
    "y_exp=np.array(np.zeros(x_exp.shape[0]))\n",
    "k=0;\n",
    "num_rep=1;\n",
    "for i in x_exp:\n",
    "    X2 = np.delete(X_train_imputed_scaled.values,(ix[:][i:]), axis=1)\n",
    "    y_exp[k] =gmean(calc_rezult2(X2,y_train),axis=0)\n",
    "    k=k+1;\n",
    "plt.plot(x_exp,y_exp,'bo--')\n",
    "plt.plot([x_exp[0],x_exp[-1]],[pca_metric,pca_metric],'r--')\n",
    "plt.show()"
   ]
  },
  {
   "cell_type": "markdown",
   "metadata": {},
   "source": [
    "Как можно видеть, качество сравнимое с тем, что получено по МГК, достигается лишь при участии 9 из исходных компанет."
   ]
  },
  {
   "cell_type": "code",
   "execution_count": 9,
   "metadata": {},
   "outputs": [],
   "source": [
    "# Функция оценки качества построения дерева решений c обучающей и тестовой выборками.\n",
    "def calc_rezult3(X_train,y_train,X_test,y_test):\n",
    "    model = LogisticRegression()\n",
    "    model.fit( X_train, y_train )\n",
    "    y_pred = model.predict(X_test)\n",
    "    return [accuracy(y_test, y_pred), precision(y_test, y_pred), recall(y_test, y_pred)]"
   ]
  },
  {
   "cell_type": "code",
   "execution_count": 10,
   "metadata": {},
   "outputs": [
    {
     "name": "stdout",
     "output_type": "stream",
     "text": [
      "Распределение качества результатов выборо кросс валидации\n"
     ]
    },
    {
     "data": {
      "image/png": "[encoded data removed]",
      "text/plain": [
       "<Figure size 432x288 with 1 Axes>"
      ]
     },
     "metadata": {
      "needs_background": "light"
     },
     "output_type": "display_data"
    }
   ],
   "source": [
    "kfold=5\n",
    "skf=StratifiedKFold(n_splits=kfold, shuffle=True, random_state=0)\n",
    "buf=np.zeros(kfold)\n",
    "k=0\n",
    "for train_index, test_index in skf.split(X_train_new, y_train):\n",
    "    X_trn, X_tst = X_train_new[train_index], X_train_new[test_index]\n",
    "    y_trn, y_tst = y_train[train_index], y_train[test_index]\n",
    "    buf[k]=gmean(calc_rezult3(X_trn,y_trn,X_tst,y_tst),axis=0)\n",
    "    k=k+1\n",
    "plt.hist(buf)\n",
    "print(\"Распределение качества результатов выборо кросс валидации\")"
   ]
  },
  {
   "cell_type": "markdown",
   "metadata": {},
   "source": [
    "Как можно видеть при крос валидации с делениям на 5 частей (примерно по 180 точек в каждой) модель показывает деление по качеству на два значения (~0.71 и ~0.78). А среднее значение оказывается в районе 0.742."
   ]
  }
 ],
 "metadata": {
  "kernelspec": {
   "display_name": "Python 3",
   "language": "python",
   "name": "python3"
  },
  "language_info": {
   "codemirror_mode": {
    "name": "ipython",
    "version": 3
   },
   "file_extension": ".py",
   "mimetype": "text/x-python",
   "name": "python",
   "nbconvert_exporter": "python",
   "pygments_lexer": "ipython3",
   "version": "3.7.0"
  }
 },
 "nbformat": 4,
 "nbformat_minor": 2
}
