{
 "cells": [
  {
   "cell_type": "markdown",
   "metadata": {},
   "source": [
    "### Задание 1\n",
    "Напишите функцию, которая возвращает сумму элементов на диагонали. Т. е. 13+32+23+35.\n",
    "Дан список вида:"
   ]
  },
  {
   "cell_type": "code",
   "execution_count": 1,
   "metadata": {},
   "outputs": [
    {
     "name": "stdout",
     "output_type": "stream",
     "text": [
      "Результат применения ф-ии \"diag\" к списку \"data\": 103\n"
     ]
    }
   ],
   "source": [
    "data = [ [13, 25, 23, 34],\n",
    "         [45, 32, 44, 47],\n",
    "         [12, 33, 23, 95],\n",
    "         [13, 53, 34, 35], ]\n",
    "\n",
    "def diag(input=[0]):\n",
    "    d_sum=0;\n",
    "    for i in range(len(input)):\n",
    "        try:\n",
    "            d_sum=d_sum+input[i][i]\n",
    "        except:\n",
    "            return(-1)\n",
    "    return(d_sum)\n",
    "print('Результат применения ф-ии \"diag\" к списку \"data\": ' + str(diag(data)))"
   ]
  },
  {
   "cell_type": "markdown",
   "metadata": {},
   "source": [
    "### Задание 2\n",
    "Дан список чисел, часть из которых имеют строковый тип или содержат буквы. Напишите функцию, которая возвращает сумму квадратов элементов, которые могут быть числами."
   ]
  },
  {
   "cell_type": "code",
   "execution_count": 2,
   "metadata": {},
   "outputs": [
    {
     "name": "stdout",
     "output_type": "stream",
     "text": [
      "Результат применения ф-ии \"my_sqr\" к списку \"data\": 430.0\n"
     ]
    }
   ],
   "source": [
    "data = [1, '5', 'abc', 20, '2']\n",
    "\n",
    "def my_sqr(input=[0]):\n",
    "    rez=0\n",
    "    for x in input:\n",
    "        try:\n",
    "            rez=rez+float(x)**2\n",
    "        except:\n",
    "            1\n",
    "    return(rez)\n",
    "\n",
    "print('Результат применения ф-ии \"my_sqr\" к списку \"data\": ' + str(my_sqr(data)))"
   ]
  },
  {
   "cell_type": "markdown",
   "metadata": {},
   "source": [
    "### Задание 3\n",
    "Напишите функцию, которая возвращает название валюты (поле 'Name') с максимальным значением курса с помощью сервиса https://www.cbr-xml-daily.ru/daily_json.js"
   ]
  },
  {
   "cell_type": "code",
   "execution_count": 3,
   "metadata": {},
   "outputs": [
    {
     "name": "stdout",
     "output_type": "stream",
     "text": [
      "На момент [2018-09-07T11:30:00+03:00] максимальное значение курса у валюты:\n",
      "\t->\tКитайских юаней\n",
      "И оно равно:\n",
      "\t->\t99.9231\n"
     ]
    },
    {
     "data": {
      "text/plain": [
       "('Китайских юаней', 99.9231, '2018-09-07T11:30:00+03:00')"
      ]
     },
     "execution_count": 3,
     "metadata": {},
     "output_type": "execute_result"
    }
   ],
   "source": [
    "def curs_max():\n",
    "    import requests\n",
    "    req = requests.get('https://www.cbr-xml-daily.ru/daily_json.js')\n",
    "    dt=req.json()['Date']\n",
    "    req=req.json()['Valute']\n",
    "    mx=-1\n",
    "    nm=''\n",
    "    for x in req.items():\n",
    "        c=list(x[1].items())[5][1]\n",
    "        if c>mx:\n",
    "            mx=c\n",
    "            nm=list(x[1].items())[4][1]\n",
    "    print('На момент [' + dt + '] максимальное значение курса у валюты:')\n",
    "    print('\\t->\\t' + nm)\n",
    "    print('И оно равно:')\n",
    "    print('\\t->\\t' + str(mx))\n",
    "    return(nm,mx,dt)\n",
    "curs_max()"
   ]
  },
  {
   "cell_type": "markdown",
   "metadata": {},
   "source": [
    "### Задание 4\n",
    "Последнее упражнение с занятия\n",
    "1. Добавьте в класс еще один формат, который возвращает название валюты (например, 'Евро').\n",
    "2. Добавьте в класс параметр diff (со значениями True или False), который в случае значения True в методах eur и usd будет возвращать не курс валюты, а изменение по сравнению в прошлым значением."
   ]
  },
  {
   "cell_type": "code",
   "execution_count": 4,
   "metadata": {},
   "outputs": [],
   "source": [
    "class Rate:\n",
    "    def __init__(self, format='value'):\n",
    "        self.format = format\n",
    "    \n",
    "    def exchange_rates(self):\n",
    "        \"\"\" Возвращает ответ сервиса с информацией о валютах \"\"\"\n",
    "        r = requests.get('https://www.cbr-xml-daily.ru/daily_json.js')\n",
    "        return r.json()['Valute']\n",
    "    \n",
    "    def make_format(self, currency, diff=False):\n",
    "        \"\"\" Возвращает информацию о валюте currency в трех вариантах:\n",
    "                - полная информация о валюте при self.format = 'full':\n",
    "                        Rate('full').make_format('EUR')\n",
    "                - только значение курса при self.format = 'value':\n",
    "                        Rate('value').make_format('EUR')\n",
    "                - название валюты при self.format = 'name':\n",
    "                        Rate('name').make_format('EUR') \"\"\"\n",
    "        response = self.exchange_rates()\n",
    "        if currency in response:\n",
    "            if self.format == 'full':\n",
    "                return response[currency]\n",
    "            if self.format == 'value':\n",
    "                if diff==True:\n",
    "                    return response[currency]['Previous']-response[currency]['Value']\n",
    "                return response[currency]['Value']\n",
    "            if self.format == 'name':\n",
    "                return response[currency]['Name']        \n",
    "        return 'Error'\n",
    "    \n",
    "    def eur(self):\n",
    "        \"\"\"Возвращает курс евро на сегодня в формате self.format\"\"\"\n",
    "        return self.make_format('EUR')\n",
    "    \n",
    "    def usd(self):\n",
    "        \"\"\"Возвращает курс доллара на сегодня в формате self.format\"\"\"\n",
    "        return self.make_format('USD')"
   ]
  },
  {
   "cell_type": "code",
   "execution_count": 5,
   "metadata": {},
   "outputs": [
    {
     "name": "stdout",
     "output_type": "stream",
     "text": [
      "Измененте по курсу валюты \"Доллар США\" равно: 0.2123\n"
     ]
    }
   ],
   "source": [
    "import requests\n",
    "money_name=Rate('name')\n",
    "money_rate=Rate('value')\n",
    "print('Измененте по курсу валюты \"' + money_name.make_format(currency='USD') + '\" равно: ' +str(round(10**5*money_rate.make_format(currency='USD', diff=True))/10**5))"
   ]
  },
  {
   "cell_type": "markdown",
   "metadata": {},
   "source": [
    "### Задание 5\n",
    "Напишите функцию, возвращающую сумму первых n чисел Фибоначчи"
   ]
  },
  {
   "cell_type": "code",
   "execution_count": 6,
   "metadata": {},
   "outputs": [
    {
     "name": "stdout",
     "output_type": "stream",
     "text": [
      "Cумма первых 12 элементов последовательности Фибоначи равна: 144\n"
     ]
    }
   ],
   "source": [
    "def sum_fi(i):\n",
    "    if i==0:\n",
    "        return 0\n",
    "    elif i==1:\n",
    "        return 1\n",
    "    else:\n",
    "        return sum_fi(i-2)+sum_fi(i-1)\n",
    "n=12\n",
    "print('Cумма первых ' + str(n) + ' элементов последовательности Фибоначи равна: ' + str(sum_fi(n)))"
   ]
  },
  {
   "cell_type": "markdown",
   "metadata": {},
   "source": [
    "### Задание 6\n",
    "Напишите функцию, преобразующую произвольный список вида ['2018-01-01', 'yandex', 'cpc', 100] в словарь {'2018-01-01': {'yandex': {'cpc': 100}}}"
   ]
  },
  {
   "cell_type": "code",
   "execution_count": 7,
   "metadata": {},
   "outputs": [
    {
     "name": "stdout",
     "output_type": "stream",
     "text": [
      "Преобразуя список:\n",
      "\t->\t['2018-01-01', 'yandex', 'cpc', 100]\n",
      "Во вложенный словарь, получаем:\n",
      "\t->\t{'2018-01-01': {'yandex': {'cpc': 100}}}\n"
     ]
    }
   ],
   "source": [
    "ln=['2018-01-01', 'yandex', 'cpc', 100]\n",
    "def line2dic(l=[]):\n",
    "    if len(l)==1:\n",
    "        return l[0]\n",
    "    return {l[0] : line2dic(l[1:])}\n",
    "print('Преобразуя список:')\n",
    "print('\\t->\\t' + str(ln))\n",
    "print('Во вложенный словарь, получаем:')\n",
    "print('\\t->\\t' + str(line2dic(ln)))"
   ]
  }
 ],
 "metadata": {
  "kernelspec": {
   "display_name": "Python 3",
   "language": "python",
   "name": "python3"
  },
  "language_info": {
   "codemirror_mode": {
    "name": "ipython",
    "version": 3
   },
   "file_extension": ".py",
   "mimetype": "text/x-python",
   "name": "python",
   "nbconvert_exporter": "python",
   "pygments_lexer": "ipython3",
   "version": "3.6.5"
  }
 },
 "nbformat": 4,
 "nbformat_minor": 2
}
