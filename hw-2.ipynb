{
 "cells": [
  {
   "cell_type": "markdown",
   "metadata": {},
   "source": [
    "### Задание 1\n",
    "Дан список с визитами по городам и странам. Напишите код, который возвращает отфильтрованный список geo_logs, содержащий только визиты из России. Считайте, что список geo_logs легко помещается в оперативной памяти."
   ]
  },
  {
   "cell_type": "code",
   "execution_count": 1,
   "metadata": {},
   "outputs": [
    {
     "name": "stdout",
     "output_type": "stream",
     "text": [
      "['visit1', ['Москва', 'Россия']]\n",
      "['visit3', ['Владимир', 'Россия']]\n",
      "['visit7', ['Тула', 'Россия']]\n",
      "['visit8', ['Тула', 'Россия']]\n",
      "['visit9', ['Курск', 'Россия']]\n",
      "['visit10', ['Архангельск', 'Россия']]\n"
     ]
    }
   ],
   "source": [
    "geo_logs = [ [ 'visit1' , ['Москва'     , 'Россия']     ],\n",
    "             [ 'visit2' , ['Дели'       , 'Индия']      ],\n",
    "             [ 'visit3' , ['Владимир'   , 'Россия']     ],\n",
    "             [ 'visit4' , ['Лиссабон'   , 'Португалия'] ],\n",
    "             [ 'visit5' , ['Париж'      , 'Франция']    ],\n",
    "             [ 'visit6' , ['Лиссабон'   , 'Португалия'] ],\n",
    "             [ 'visit7' , ['Тула'       , 'Россия']     ],\n",
    "             [ 'visit8' , ['Тула'       , 'Россия']     ],\n",
    "             [ 'visit9' , ['Курск'      , 'Россия']     ],\n",
    "             [ 'visit10', ['Архангельск', 'Россия']     ], ]\n",
    "for g in geo_logs:\n",
    "    if g[1][1]=='Россия':\n",
    "        print(g)"
   ]
  },
  {
   "cell_type": "markdown",
   "metadata": {},
   "source": [
    "### Задание 2\n",
    "Выведите на экран все уникальные гео-ID из значений словаря ids. Т. е. список вида [213, 15, 54, 119, 98, 35]"
   ]
  },
  {
   "cell_type": "code",
   "execution_count": 2,
   "metadata": {},
   "outputs": [
    {
     "name": "stdout",
     "output_type": "stream",
     "text": [
      "[15, 35, 54, 98, 119, 213]\n"
     ]
    }
   ],
   "source": [
    "ids = { 'user1': [213, 213, 213, 15, 213],\n",
    "        'user2': [54, 54, 119, 119, 119],\n",
    "        'user3': [213, 98, 98, 35],        }\n",
    "all=[]\n",
    "for key in ids.values():\n",
    "    all=[*all, *key]\n",
    "print(sorted(set(all)))\n",
    "#set(descriptions[0])"
   ]
  },
  {
   "cell_type": "markdown",
   "metadata": {},
   "source": [
    "### Задание 3\n",
    "Список поисковых запросов. Получить распределение количества слов в них. Т. е. поисковых запросов из одного слова 5%, из двух - 7%, из трех - 3% итд."
   ]
  },
  {
   "cell_type": "code",
   "execution_count": 3,
   "metadata": {},
   "outputs": [
    {
     "name": "stdout",
     "output_type": "stream",
     "text": [
      "Количество слов в запросе: 2 ; процент от общего числа запросов: 42.9%\n",
      "Количество слов в запросе: 3 ; процент от общего числа запросов: 57.1%\n"
     ]
    }
   ],
   "source": [
    "queries = [ 'смотреть сериалы онлайн',\n",
    "            'новости спорта'         ,\n",
    "            'афиша кино'             ,\n",
    "            'курс доллара'           ,\n",
    "            'сериалы этим летом'     ,\n",
    "            'курс по питону'         ,\n",
    "            'сериалы про спорт'      , ]\n",
    "num=[]\n",
    "for i in range(len(queries)):\n",
    "    num.append(len(queries[i].split(' ')))\n",
    "unq=list(set(num))\n",
    "for i in range(len(unq)):\n",
    "    buf2 = sum([j==unq[i]  for j in num])\n",
    "    print('Количество слов в запросе: ' + str(unq[i]) + ' ; процент от общего числа запросов: ' + str(round(1000*buf2/len(num))/10) + '%')\n"
   ]
  },
  {
   "cell_type": "markdown",
   "metadata": {},
   "source": [
    "### Задание 4\n",
    "Дана статистика рекламных каналов по объемам продаж. Напишите скрипт, который возвращает название канала с максимальным объемом.\n",
    "Т. е. в данном примере скрипт должен возвращать 'yandex'."
   ]
  },
  {
   "cell_type": "code",
   "execution_count": 4,
   "metadata": {},
   "outputs": [
    {
     "name": "stdout",
     "output_type": "stream",
     "text": [
      "yandex имеет максимальное значение объема продаж (а именно 120)\n"
     ]
    }
   ],
   "source": [
    "stats = { 'facebook':  55,\n",
    "          'yandex'  : 120,\n",
    "          'vk'      : 115,\n",
    "          'google'  :  99,\n",
    "          'email'   :  42,\n",
    "          'ok'      :  98, }\n",
    "mx=-1\n",
    "ch=''\n",
    "for x in stats.items():\n",
    "    if mx<x[1]:\n",
    "        mx=x[1]+0\n",
    "        ch=x[0]\n",
    "print(ch + ' имеет максимальное значение объема продаж (а именно '+ str(mx) +')')"
   ]
  },
  {
   "cell_type": "markdown",
   "metadata": {},
   "source": [
    "### Задание 5\n",
    "Дан поток логов по количеству просмотренных страниц для каждого пользователя. Список отсортирован по ID пользователя. Вам необходимо написать алгоритм, который считает среднее значение просмотров на пользователя. Т. е. надо посчитать отношение суммы всех просмотров к количеству уникальных пользователей. Учтите, что весь список stream не помещается в оперативную память, т. е. его нужно обрабатывать поэлементно в цикле."
   ]
  },
  {
   "cell_type": "code",
   "execution_count": 5,
   "metadata": {},
   "outputs": [
    {
     "name": "stdout",
     "output_type": "stream",
     "text": [
      "Cреднее значение просмотров: 23.25\n"
     ]
    }
   ],
   "source": [
    "stream = [\n",
    "'2018-01-01,user1,3',\n",
    "'2018-01-07,user1,4',\n",
    "'2018-03-29,user1,1',\n",
    "'2018-04-04,user1,13',\n",
    "'2018-01-05,user2,7',\n",
    "'2018-06-14,user3,4',\n",
    "'2018-07-02,user3,10',\n",
    "'2018-03-21,user4,19',\n",
    "'2018-03-22,user4,4',\n",
    "'2018-04-22,user4,8',\n",
    "'2018-05-03,user4,9',\n",
    "'2018-05-11,user4,11',\n",
    "]\n",
    "usr=[]\n",
    "lnk=[]\n",
    "for i in range(len(stream)):\n",
    "    st=stream[i].split(',')\n",
    "    flg=0\n",
    "    for j in range(len(usr)):\n",
    "        if usr[j]==st[1]:\n",
    "            flg=1\n",
    "            lnk[j]=lnk[j]+int(st[2])\n",
    "            break\n",
    "    if flg==0:\n",
    "        usr.append(st[1])\n",
    "        lnk.append(int(st[2]))\n",
    "print('Cреднее значение просмотров: ' + str(sum(lnk)/len(usr)))"
   ]
  },
  {
   "cell_type": "markdown",
   "metadata": {},
   "source": [
    "### Задание 6\n",
    "Дана статистика рекламных кампаний по дням. Напишите алгоритм, который по паре дата-кампания ищет значение численного столбца. Т. е. для даты '2018-01-01' и 'google' нужно получить число 25. Считайте, что все комбинации дата-кампания уникальны, а список stats легко помещается в оперативной памяти."
   ]
  },
  {
   "cell_type": "code",
   "execution_count": 6,
   "metadata": {},
   "outputs": [
    {
     "name": "stdout",
     "output_type": "stream",
     "text": [
      "Для запроса \"2018-01-02\" и \"market\" ответ будет: 994\n"
     ]
    }
   ],
   "source": [
    "stats = [ ['2018-01-01', 'google',   25],\n",
    "          ['2018-01-01', 'yandex',   65],\n",
    "          ['2018-01-01', 'market',   89],\n",
    "          ['2018-01-02', 'google',  574],\n",
    "          ['2018-01-02', 'yandex',  249],\n",
    "          ['2018-01-02', 'market',  994],\n",
    "          ['2018-01-03', 'google', 1843],\n",
    "          ['2018-01-03', 'yandex', 1327],\n",
    "          ['2018-01-03', 'market', 1764], ]\n",
    "dic={}\n",
    "for x in stats:\n",
    "    buf='_'.join([x[0],x[1]])\n",
    "    dic.setdefault(buf, 0)\n",
    "    dic[buf] += x[2]\n",
    "    \n",
    "in1='2018-01-02'\n",
    "in2='market'\n",
    "rez=dic['_'.join([in1,in2])]\n",
    "print('Для запроса \"' + in1 + '\" и \"' + in2 +'\" ответ будет: ' + str(rez))\n"
   ]
  },
  {
   "cell_type": "markdown",
   "metadata": {},
   "source": [
    "### Бонусный вариант (делать его не обязательно)\n",
    "Рассмотрите обобщенный вариант этой задачи: имеется таблица из n столбцов. Первые n-1 столбцов - признаки (комбинации этих признаков в таблице уникальные). Последний столбец - значение. Вам необходимо по набору n-1 признаков найти соответствующую строчку в таблице и вернуть значение из правого столбца. Учтите, что исходная таблица может быть любого размера.\n",
    " \n",
    "Одно из применений задачи - объединение двух таблиц по n столбцов, одна из которых помещается в оперативной памяти. Например, 7 столбцов по 1 и 10 миллионов строк."
   ]
  },
  {
   "cell_type": "code",
   "execution_count": 7,
   "metadata": {},
   "outputs": [
    {
     "name": "stdout",
     "output_type": "stream",
     "text": [
      "Для запроса ['2018-01-03', 0, 'yandex', 'Somik', 29] ответ будет: 1327\n"
     ]
    }
   ],
   "source": [
    "stats = [ ['2018-01-01', 1, 'google', 'Ivanova',    33,   25],\n",
    "          ['2018-01-01', 0, 'yandex', 'Bortnik',    27,   65],\n",
    "          ['2018-01-01', 0, 'market', 'Iskevich',   45,   89],\n",
    "          ['2018-01-02', 0, 'google', 'Case',       39,  574],\n",
    "          ['2018-01-02', 0, 'yandex', 'Smirnov',    19,  249],\n",
    "          ['2018-01-02', 1, 'market', 'Bibl-Broke', 69,  994],\n",
    "          ['2018-01-03', 1, 'google', 'Tar-Taren',  36, 1843],\n",
    "          ['2018-01-03', 0, 'yandex', 'Somik',      29, 1327],\n",
    "          ['2018-01-03', 0, 'market', 'Dobrinin',   46, 1764], ]\n",
    "dic={}\n",
    "for i in range(len(stats)):\n",
    "    x=stats[i]\n",
    "    if isinstance(x[0], str)==0:\n",
    "        x[0]=str(x[0])\n",
    "    st=x[0]\n",
    "    for j in range(1,len(x)-1):\n",
    "        if isinstance(x[j], str)==0:\n",
    "            x[j]=str(x[j])\n",
    "        st='_'.join([st,x[j]])\n",
    "    dic.setdefault(st, 0)\n",
    "    dic[st] += x[-1]\n",
    "\n",
    "in0=['2018-01-03', 0, 'yandex', 'Somik', 29]\n",
    "st=in0[0]\n",
    "for j in range(1,len(in0)):\n",
    "    if isinstance(in0[j], str)==0:\n",
    "        st='_'.join([st,str(in0[j])])\n",
    "    else:\n",
    "        st='_'.join([st,in0[j]])\n",
    "rez=dic[st]\n",
    "print('Для запроса ' + str(in0) + ' ответ будет: ' + str(rez))"
   ]
  }
 ],
 "metadata": {
  "kernelspec": {
   "display_name": "Python 3",
   "language": "python",
   "name": "python3"
  },
  "language_info": {
   "codemirror_mode": {
    "name": "ipython",
    "version": 3
   },
   "file_extension": ".py",
   "mimetype": "text/x-python",
   "name": "python",
   "nbconvert_exporter": "python",
   "pygments_lexer": "ipython3",
   "version": "3.6.5"
  }
 },
 "nbformat": 4,
 "nbformat_minor": 2
}
