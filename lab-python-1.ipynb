{
 "cells": [
  {
   "cell_type": "markdown",
   "metadata": {},
   "source": [
    "# Лабораторная работа по модулю “Python для анализа данных”"
   ]
  },
  {
   "cell_type": "markdown",
   "metadata": {},
   "source": [
    "## 1\n",
    "##### Дан произвольный список, содержащий только числа.\n",
    "##### Выведите результат сложения всех чисел больше 10."
   ]
  },
  {
   "cell_type": "code",
   "execution_count": 1,
   "metadata": {},
   "outputs": [
    {
     "name": "stdout",
     "output_type": "stream",
     "text": [
      "Дан список: [5, 7, 12, 1, -77, 110, 0]\n",
      "Cумма элементов списка, который вольше 10 равна 122\n"
     ]
    }
   ],
   "source": [
    "lst=[5,7,12,1,-77,110,0]\n",
    "print('Дан список: ' + str(lst))\n",
    "lst=sorted(lst)\n",
    "i=0\n",
    "for x in lst:\n",
    "    if x>10:\n",
    "        break\n",
    "    i=i+1\n",
    "print('Cумма элементов списка, который вольше 10 равна ' + str(sum(lst[i:])))"
   ]
  },
  {
   "cell_type": "markdown",
   "metadata": {},
   "source": [
    "## 2\n",
    "##### Пусть задан список, содержащий строки.\n",
    "##### Выведите все строки, заканчивающиеся буковой \"r\"."
   ]
  },
  {
   "cell_type": "code",
   "execution_count": 2,
   "metadata": {},
   "outputs": [
    {
     "name": "stdout",
     "output_type": "stream",
     "text": [
      "Дан список: ['mayor', 'man', 'red', 'sir', 'old', 'peer', 'strong']\n",
      "А вот строки из него, которые оканчиваются на \"r\": ['mayor', 'sir', 'peer']\n"
     ]
    }
   ],
   "source": [
    "lst=['mayor','man', 'red', 'sir', 'old', 'peer', 'strong']\n",
    "print('Дан список: ' + str(lst))\n",
    "rez=[]\n",
    "for x in lst:\n",
    "    if x[-1]=='r':\n",
    "        rez.append(x)\n",
    "print('А вот строки из него, которые оканчиваются на \"r\": ' + str(rez))"
   ]
  },
  {
   "cell_type": "markdown",
   "metadata": {},
   "source": [
    "## 3\n",
    "##### Сгенерируйте и выведите cлучайную строку размером 6 символов, содержащуютолько цифры.\n",
    "##### Строка должна содержать хотя бы однуцифру 3. "
   ]
  },
  {
   "cell_type": "code",
   "execution_count": 3,
   "metadata": {},
   "outputs": [
    {
     "name": "stdout",
     "output_type": "stream",
     "text": [
      "Случайная строка из шести символов-цифр как минимум один из которых \"3\": 713014\n"
     ]
    }
   ],
   "source": [
    "import random\n",
    "num=random.randint(10000, 99999)\n",
    "ix=random.randint(0,5)\n",
    "rez=str(num)\n",
    "if ix==0:    rez='3' + rez\n",
    "elif ix==5:  rez=rez + '3'\n",
    "else:        rez=rez[:ix] + '3' + rez[ix:]\n",
    "print('Случайная строка из шести символов-цифр как минимум один из которых \"3\": ' + rez)"
   ]
  },
  {
   "cell_type": "markdown",
   "metadata": {},
   "source": [
    "## 4\n",
    "##### Пусть дана строка произвольной длины.\n",
    "##### Выведите информацию о том,сколько в ней символов и сколько слов."
   ]
  },
  {
   "cell_type": "code",
   "execution_count": 4,
   "metadata": {},
   "outputs": [
    {
     "name": "stdout",
     "output_type": "stream",
     "text": [
      "Дана строка:\n",
      "To be, or not to be, that is the question: Whether 'tis nobler in the mind to suffer The slings and arrows of outrageous fortune, Or to take arms against a sea of troubles And by opposing end them.\n",
      "Общее количество символов в ней 159, а слов 39.\n"
     ]
    }
   ],
   "source": [
    "str0=\"To be, or not to be, that is the question: Whether 'tis nobler in the mind to suffer The slings and arrows of outrageous fortune, Or to take arms against a sea of troubles And by opposing end them.\"\n",
    "print('Дана строка:\\n' +str0 )\n",
    "wrd=str0.split(' ')\n",
    "print('Общее количество символов в ней ' + str(len(str0.replace(\" \", \"\"))) + ', а слов ' + str(len(wrd)) + '.')"
   ]
  },
  {
   "cell_type": "markdown",
   "metadata": {},
   "source": [
    "## 5\n",
    "##### Пусть дана матрица чисел размером NхN.\n",
    "##### Представьте данную матрицу ввиде списка.\n",
    "##### Выведите результат сложения всех элементов матрицы."
   ]
  },
  {
   "cell_type": "code",
   "execution_count": 5,
   "metadata": {},
   "outputs": [
    {
     "name": "stdout",
     "output_type": "stream",
     "text": [
      "Дана матрица (numpy):\n",
      "[[1 8 3]\n",
      " [6 5 4]\n",
      " [7 2 9]]\n",
      "А вот она же, но уже в виде типа list:\n",
      "[[1, 8, 3], [6, 5, 4], [7, 2, 9]]\n",
      "Вот результат суммы всех её элементов: 45\n"
     ]
    }
   ],
   "source": [
    "import numpy as np\n",
    "mas1=np.array([ [1, 8, 3], [6, 5, 4], [7, 2, 9] ])\n",
    "print('Дана матрица (numpy):\\n' + str(mas1))\n",
    "\n",
    "print('А вот она же, но уже в виде типа list:\\n' + str(mas1.tolist()))\n",
    "\n",
    "sz=mas1.shape\n",
    "mas2=mas1.reshape((1, sz[0]*sz[1]))\n",
    "print('Вот результат суммы всех её элементов: ' + str(sum(mas2.tolist()[0])))"
   ]
  },
  {
   "cell_type": "markdown",
   "metadata": {},
   "source": [
    "## 6\n",
    "##### Пусть список студентов представлен в виде структуры:\n",
    "###### [ [No, ФИО, Возраст,Группа],\n",
    "######   [No, ФИО, Возраст, Группа],\n",
    "######   [No, ФИО, Возраст, Группа] ]\n",
    "##### Преобразуйте список в словарь вида:\n",
    "###### { No: [ФИО, Возраст, Группа],\n",
    "######   No: [....],\n",
    "######   No: [....] }"
   ]
  },
  {
   "cell_type": "code",
   "execution_count": 6,
   "metadata": {},
   "outputs": [
    {
     "name": "stdout",
     "output_type": "stream",
     "text": [
      "Дан список студентов:\n",
      "[[77, 'Бикбуллатов Бикбуллат Бикбуллатович', 19, 2], [47, 'Смирнов Игорь Викторович', 18, 7], [4, 'Wahlberg Elizabeth', 20, 3]]\n",
      "После преобазования в словарь он выглядит:\n",
      "{77: ['Бикбуллатов Бикбуллат Бикбуллатович', 19, 2], 47: ['Смирнов Игорь Викторович', 18, 7], 4: ['Wahlberg Elizabeth', 20, 3]}\n"
     ]
    }
   ],
   "source": [
    "lst=[[77, 'Бикбуллатов Бикбуллат Бикбуллатович', 19, 2], [47, 'Смирнов Игорь Викторович', 18, 7],[4, 'Wahlberg Elizabeth', 20, 3]]\n",
    "print('Дан список студентов:\\n' + str(lst))\n",
    "dic={}\n",
    "for x in lst:\n",
    "    dic.setdefault(x[0], ['', 0, 0])\n",
    "    dic[x[0]]=x[1:]\n",
    "print('После преобазования в словарь он выглядит:\\n' + str(dic))"
   ]
  },
  {
   "cell_type": "markdown",
   "metadata": {},
   "source": [
    "## 7\n",
    "##### Добавьте к задаче №6 для словаря возможность (без преобразования словаря обратно в список) изменить группу студента.\n",
    "##### Поиск по «ФИО» («ФИО» студента и новый номер группы необходимо ввести с клавиатуры)."
   ]
  },
  {
   "cell_type": "code",
   "execution_count": 8,
   "metadata": {},
   "outputs": [
    {
     "name": "stdout",
     "output_type": "stream",
     "text": [
      "Введите ФИО студента:\n",
      "\n",
      "Введите новый номер его группы:\n",
      "\n",
      "Изменения вступили в силу:\n",
      "{77: ['Бикбуллатов Бикбуллат Бикбуллатович', 19, 1], 47: ['Смирнов Игорь Викторович', 18, 7], 4: ['Wahlberg Elizabeth', 20, 3]}\n"
     ]
    }
   ],
   "source": [
    "lst=[[77, 'Бикбуллатов Бикбуллат Бикбуллатович', 19, 2], [47, 'Смирнов Игорь Викторович', 18, 7],[4, 'Wahlberg Elizabeth', 20, 3]]\n",
    "dic={}\n",
    "for x in lst:\n",
    "    dic.setdefault(x[0], ['', 0, 0])\n",
    "    dic[x[0]]=x[1:]\n",
    "\n",
    "def get_studID(dic, name):\n",
    "    for key, value in dic.items():\n",
    "        if value[0] == name:\n",
    "            return key\n",
    "        \n",
    "print('Введите ФИО студента:\\n')\n",
    "stud_name=input()\n",
    "print('Введите новый номер его группы:')\n",
    "new_stud_group=int(input())\n",
    "\n",
    "studID=get_studID(dic, stud_name)\n",
    "dic[studID][-1]=new_stud_group\n",
    "print('\\nИзменения вступили в силу:\\n' + str(dic))"
   ]
  },
  {
   "cell_type": "markdown",
   "metadata": {},
   "source": [
    "## 8\n",
    "##### Дана некоторая директория (папка).\n",
    "##### Посчитайте количество файлов в данной директории (папке) и выведите на  экра"
   ]
  },
  {
   "cell_type": "code",
   "execution_count": 9,
   "metadata": {},
   "outputs": [
    {
     "name": "stdout",
     "output_type": "stream",
     "text": [
      "В указанной папке находится 5 файлов со следующими именами:\n",
      "( initrd.img.old , initrd.img , swapfile , vmlinuz , vmlinuz.old )\n"
     ]
    }
   ],
   "source": [
    "from os import listdir\n",
    "from os.path import isfile\n",
    "from os.path import join as joinpath\n",
    "### Путь к папке (можно задать любой) - mypath ###\n",
    "mypath = \"/\"\n",
    "i=0\n",
    "rez='('\n",
    "for x in listdir(mypath):\n",
    "    if isfile(joinpath(mypath,x)):\n",
    "        rez=rez + ' ' + x + ' ,'\n",
    "        i=i+1\n",
    "rez=rez[:-1] + ')'\n",
    "print('В указанной папке находится '+ str(i) +' файлов со следующими именами:\\n' + rez)"
   ]
  }
 ],
 "metadata": {
  "kernelspec": {
   "display_name": "Python 3",
   "language": "python",
   "name": "python3"
  },
  "language_info": {
   "codemirror_mode": {
    "name": "ipython",
    "version": 3
   },
   "file_extension": ".py",
   "mimetype": "text/x-python",
   "name": "python",
   "nbconvert_exporter": "python",
   "pygments_lexer": "ipython3",
   "version": "3.6.5"
  }
 },
 "nbformat": 4,
 "nbformat_minor": 2
}
