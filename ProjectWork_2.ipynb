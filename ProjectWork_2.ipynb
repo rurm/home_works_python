{
 "cells": [
  {
   "cell_type": "markdown",
   "metadata": {},
   "source": [
    "### Проектная работа по модулю “Построение моделей”\n",
    "#### В данной работе предлагается решить задачу бинарной классификации на большом признаковом множестве для датасета банка Santader (https://www.santanderbank.com/us/personal)\n",
    "В этой работе я изменил порядок выполнения заданий, в пользу более логичного, на мой взгяд."
   ]
  },
  {
   "cell_type": "code",
   "execution_count": 207,
   "metadata": {},
   "outputs": [],
   "source": [
    "import numpy as np\n",
    "import pandas as pd\n",
    "from sklearn.tree import DecisionTreeClassifier\n",
    "from sklearn.metrics import accuracy_score as accuracy, precision_score as precision, recall_score as recall, f1_score as f1\n",
    "from sklearn.metrics import confusion_matrix\n",
    "from sklearn.preprocessing import Normalizer, StandardScaler, MinMaxScaler\n",
    "from sklearn.decomposition import PCA\n",
    "from sklearn.model_selection import ShuffleSplit,KFold\n",
    "import matplotlib.pyplot as plt\n",
    "from tqdm import tqdm\n",
    "from scipy import stats\n",
    "import timeit\n",
    "import copy"
   ]
  },
  {
   "cell_type": "markdown",
   "metadata": {},
   "source": [
    "## Задание 1. Загрузить данные"
   ]
  },
  {
   "cell_type": "code",
   "execution_count": 2,
   "metadata": {},
   "outputs": [],
   "source": [
    "data1 = pd.read_csv('train.csv')\n",
    "# Гипотеза: Для того чтобы полученное модель не была переобучена необходимо удалить столбцы с прямой индексацией: ID \n",
    "data1.drop(['ID'], axis=1, inplace=True)"
   ]
  },
  {
   "cell_type": "code",
   "execution_count": 3,
   "metadata": {},
   "outputs": [],
   "source": [
    "# Разделение на данных на целевые и фичи\n",
    "ix=list(range(data1.shape[1]))\n",
    "del ix[-1]\n",
    "X=data1.values[:,ix]\n",
    "y=data1.TARGET"
   ]
  },
  {
   "cell_type": "markdown",
   "metadata": {},
   "source": [
    "## Задание 11. Проверить качество классификации с использованием следующих метрик: Accuracy, F1-Score, Precision, Recall\n",
    "При помощи нижеописанной функции, начиная с этого момента, будет происходить оценка качества дерева решений. В качестве метрик оценки качества функция возвращает Accuracy, Precision, Recall, F1-Score."
   ]
  },
  {
   "cell_type": "code",
   "execution_count": 164,
   "metadata": {},
   "outputs": [],
   "source": [
    "# Функция оценки качества построения дерева решений.\n",
    "def calc_rezult(X_trn,y_trn,X_tst,y_tst,n=1, var=1):\n",
    "    if var>0:\n",
    "        if var==1:# для анализа значимости фичей\n",
    "            ix=list(range(X_trn.shape[1]))\n",
    "            del ix[n]\n",
    "        elif var==2:# для анализа количества фичей (минимально-оптимального)\n",
    "            ix=list(range(n))\n",
    "    elif var==0:# простой расчет качества дерева\n",
    "        ix=list(range(X_trn.shape[1]))\n",
    "    if str(type(X_trn))==\"<class 'pandas.core.frame.DataFrame'>\":\n",
    "        X2_trn=X_trn.values[:,ix]\n",
    "        X2_tst=X_tst.values[:,ix]\n",
    "    else:\n",
    "        X2_trn=X_trn[:,ix]\n",
    "        X2_tst=X_tst[:,ix]\n",
    "    model = DecisionTreeClassifier()\n",
    "    model.fit(X2_trn, y_trn)\n",
    "    y_pred = model.predict(X2_tst)\n",
    "    return [accuracy(y_tst, y_pred), precision(y_tst, y_pred), recall(y_tst, y_pred), f1(y_tst, y_pred)]"
   ]
  },
  {
   "cell_type": "markdown",
   "metadata": {},
   "source": [
    "## Задание 5. Шкалировать данные несколькими способами (нормализация, стандартизация). Какой подход лучше?"
   ]
  },
  {
   "cell_type": "code",
   "execution_count": 4,
   "metadata": {},
   "outputs": [],
   "source": [
    "# Шкалирование различными методами\n",
    "X_normTrans_l1 = copy.deepcopy(X)\n",
    "X_normTrans_l2 = copy.deepcopy(X)\n",
    "X_normScale    = copy.deepcopy(X)\n",
    "X_normMiMa     = copy.deepcopy(X)\n",
    "norm_trans_l1  = Normalizer(copy=True, norm='l1').fit(X_normTrans_l1)\n",
    "norm_trans_l2  = Normalizer(copy=True, norm='l2').fit(X_normTrans_l2)\n",
    "norm_scaler    = StandardScaler(copy=True, with_mean=True, with_std=True).fit(X_normScale)\n",
    "mima_scaler    = MinMaxScaler(copy=True).fit(X_normMiMa)\n",
    "X_normTrans_l1 = norm_trans_l1.transform(X_normTrans_l1)\n",
    "X_normTrans_l2 = norm_trans_l2.transform(X_normTrans_l2)\n",
    "X_normScale    = norm_scaler.transform(X_normScale)\n",
    "X_normMiMa     = mima_scaler.transform(X_normMiMa)"
   ]
  },
  {
   "cell_type": "code",
   "execution_count": 6,
   "metadata": {},
   "outputs": [
    {
     "name": "stderr",
     "output_type": "stream",
     "text": [
      "100%|██████████| 10/10 [05:00<00:00, 29.88s/it]\n"
     ]
    }
   ],
   "source": [
    "# Для определения методики шкалирования произведем оценку следующих методик: Normalizer(l1 и l2), StandardScaler, MinMaxScaler\n",
    "x_exp=np.arange(0,10,1);\n",
    "y_exp_base=np.array([np.zeros(x_exp.shape[0]),np.zeros(x_exp.shape[0]),np.zeros(x_exp.shape[0]),np.zeros(x_exp.shape[0])])\n",
    "y_exp_normTrans_l1=np.array([np.zeros(x_exp.shape[0]),np.zeros(x_exp.shape[0]),np.zeros(x_exp.shape[0]),np.zeros(x_exp.shape[0])])\n",
    "y_exp_normTrans_l2=np.array([np.zeros(x_exp.shape[0]),np.zeros(x_exp.shape[0]),np.zeros(x_exp.shape[0]),np.zeros(x_exp.shape[0])])\n",
    "y_exp_normScale=np.array([np.zeros(x_exp.shape[0]),np.zeros(x_exp.shape[0]),np.zeros(x_exp.shape[0]),np.zeros(x_exp.shape[0])])\n",
    "y_exp_normMiMa=np.array([np.zeros(x_exp.shape[0]),np.zeros(x_exp.shape[0]),np.zeros(x_exp.shape[0]),np.zeros(x_exp.shape[0])])\n",
    "k=0\n",
    "for i in tqdm(x_exp):\n",
    "    # Разбиение на train и test выборки (с сохранением пропорционального соотношения 0 и 1 в целевых данных)\n",
    "    sss = ShuffleSplit(n_splits=1, test_size=0.2, random_state=k)\n",
    "    sss.get_n_splits(X[y==0])\n",
    "    trn_ix_0 , tst_ix_0 = next(sss.split(X[y==0]))\n",
    "    sss = ShuffleSplit(n_splits=1, test_size=0.2, random_state=k)\n",
    "    sss.get_n_splits(X[y==1])\n",
    "    trn_ix_1 , tst_ix_1 = next(sss.split(X[y==1]))\n",
    "    trn_ix=np.concatenate([trn_ix_0,trn_ix_1], axis=0)\n",
    "    tst_ix=np.concatenate([tst_ix_0,tst_ix_1], axis=0)\n",
    "    # Расчет экспериментов\n",
    "    y_exp_base[0][k], y_exp_base[1][k], y_exp_base[2][k], y_exp_base[3][k] = calc_rezult(X[trn_ix],y[trn_ix],X[tst_ix],y[tst_ix],n=0, var=0)\n",
    "    y_exp_normTrans_l1[0][k], y_exp_normTrans_l1[1][k], y_exp_normTrans_l1[2][k], y_exp_normTrans_l1[3][k] = calc_rezult(X_normTrans_l1[trn_ix],y[trn_ix],X_normTrans_l1[tst_ix],y[tst_ix],n=0, var=0)\n",
    "    y_exp_normTrans_l2[0][k], y_exp_normTrans_l2[1][k], y_exp_normTrans_l2[2][k], y_exp_normTrans_l2[3][k] = calc_rezult(X_normTrans_l2[trn_ix],y[trn_ix],X_normTrans_l2[tst_ix],y[tst_ix],n=0, var=0)\n",
    "    y_exp_normScale[0][k], y_exp_normScale[1][k], y_exp_normScale[2][k], y_exp_normScale[3][k] = calc_rezult(X_normScale[trn_ix],y[trn_ix],X_normScale[tst_ix],y[tst_ix],n=0, var=0)\n",
    "    y_exp_normMiMa[0][k], y_exp_normMiMa[1][k], y_exp_normMiMa[2][k], y_exp_normMiMa[3][k] = calc_rezult(X_normMiMa[trn_ix],y[trn_ix],X_normMiMa[tst_ix],y[tst_ix],n=0, var=0)\n",
    "    k=k+1;   "
   ]
  },
  {
   "cell_type": "code",
   "execution_count": 7,
   "metadata": {},
   "outputs": [
    {
     "name": "stdout",
     "output_type": "stream",
     "text": [
      "\t\taccuracy\tprecision\trecall\t\tf1-score\n",
      "Base\t\t0.9341\t\t0.1804\t\t0.1905\t\t0.1852\n",
      "Normalizer(l1)\t0.9341\t\t0.1718\t\t0.177\t\t0.1743\n",
      "Normalizer(l2)\t0.9333\t\t0.1703\t\t0.1804\t\t0.1751\n",
      "StandardScaler\t0.9339\t\t0.1796\t\t0.1908\t\t0.1849\n",
      "MinMaxScaler\t0.9337\t\t0.1741\t\t0.1835\t\t0.1785\n"
     ]
    }
   ],
   "source": [
    "# Таблица результатов анализа шкалирования\n",
    "rez=np.array([y_exp_base.mean(axis=1),y_exp_normTrans_l1.mean(axis=1),y_exp_normTrans_l2.mean(axis=1),y_exp_normScale.mean(axis=1),y_exp_normMiMa.mean(axis=1),]).round(4)\n",
    "print('\\t\\taccuracy\\tprecision\\trecall\\t\\tf1-score')\n",
    "print('Base\\t\\t' + str(rez[0][0]) + '\\t\\t' + str(rez[0][1]) + '\\t\\t' + str(rez[0][2]) + '\\t\\t' + str(rez[0][3]))\n",
    "print('Normalizer(l1)\\t' + str(rez[1][0]) + '\\t\\t' + str(rez[1][1]) + '\\t\\t' + str(rez[1][2]) + '\\t\\t' + str(rez[1][3]))\n",
    "print('Normalizer(l2)\\t' + str(rez[2][0]) + '\\t\\t' + str(rez[2][1]) + '\\t\\t' + str(rez[2][2]) + '\\t\\t' + str(rez[2][3]))\n",
    "print('StandardScaler\\t' + str(rez[3][0]) + '\\t\\t' + str(rez[3][1]) + '\\t\\t' + str(rez[3][2]) + '\\t\\t' + str(rez[3][3]))\n",
    "print('MinMaxScaler\\t' + str(rez[4][0]) + '\\t\\t' + str(rez[4][1]) + '\\t\\t' + str(rez[4][2]) + '\\t\\t' + str(rez[4][3]))"
   ]
  },
  {
   "cell_type": "markdown",
   "metadata": {},
   "source": [
    "По результатам анализа метода шкалирования видно, что лучше оставить данные в исходном виде (скорее всего они уже были шкалированы ранее)"
   ]
  },
  {
   "cell_type": "markdown",
   "metadata": {},
   "source": [
    "## Задание 6. Попробовать стратегию oversamling и сравнить ее с неизмененной моделью\n",
    "## Задание 7. Попробовать стратегию undersampling и сравнить ее с неизмененной моделью"
   ]
  },
  {
   "cell_type": "code",
   "execution_count": 8,
   "metadata": {},
   "outputs": [
    {
     "data": {
      "image/png": "[encoded data removed]",
      "text/plain": [
       "<Figure size 432x288 with 1 Axes>"
      ]
     },
     "metadata": {
      "needs_background": "light"
     },
     "output_type": "display_data"
    }
   ],
   "source": [
    "# Как можно видеть исходная выборка TARGET не сбалансирована.\n",
    "y.value_counts().plot(kind='bar', title='Count (TARGET)');\n",
    "# Потому произведем анализ 2-х подходов oversampling и undersampling"
   ]
  },
  {
   "cell_type": "code",
   "execution_count": 102,
   "metadata": {},
   "outputs": [],
   "source": [
    "# Функция oversampling/undersampling аназиза\n",
    "def sampling_analyze(data1,var=1,k=1):\n",
    "    count_class_0, count_class_1 = data1.TARGET.value_counts()\n",
    "    df_class_0 = data1[data1['TARGET']==0]\n",
    "    df_class_1 = data1[data1['TARGET']==1]\n",
    "    if var==1:#undersampling\n",
    "        df_class_0 = df_class_0.sample(count_class_1)\n",
    "    elif var==2:#oversampling\n",
    "        df_class_1 = df_class_1.sample(count_class_0, replace=True)\n",
    "    df_class_0.reset_index();\n",
    "    df_class_1.reset_index();\n",
    "    sss = ShuffleSplit(n_splits=1, test_size=0.2, random_state=k)\n",
    "    sss.get_n_splits(df_class_0)\n",
    "    if var<3:\n",
    "        trn_ix , tst_ix = next(sss.split(df_class_0))\n",
    "        df_tst = pd.concat([pd.DataFrame(df_class_0.values[tst_ix], columns=df_class_0.columns),pd.DataFrame(df_class_1.values[tst_ix], columns=df_class_1.columns)], axis=0)\n",
    "        df_trn = pd.concat([pd.DataFrame(df_class_0.values[trn_ix], columns=df_class_0.columns),pd.DataFrame(df_class_1.values[trn_ix], columns=df_class_1.columns)], axis=0)\n",
    "    else:\n",
    "        trn_ix_0 , tst_ix_0 = next(sss.split(df_class_0))\n",
    "        trn_ix_1 , tst_ix_1 = next(sss.split(df_class_1))\n",
    "        df_tst = pd.concat([pd.DataFrame(df_class_0.values[tst_ix_0], columns=df_class_0.columns),pd.DataFrame(df_class_1.values[tst_ix_1], columns=df_class_1.columns)], axis=0)\n",
    "        df_trn = pd.concat([pd.DataFrame(df_class_0.values[trn_ix_0], columns=df_class_0.columns),pd.DataFrame(df_class_1.values[trn_ix_1], columns=df_class_1.columns)], axis=0)\n",
    "    y_trn=pd.DataFrame(df_trn.TARGET,columns=['TARGET'])\n",
    "    X_trn=df_trn\n",
    "    X_trn.drop(['TARGET'], axis=1, inplace=True)\n",
    "    y_tst=pd.DataFrame(df_tst.TARGET,columns=['TARGET'])\n",
    "    X_tst=df_tst\n",
    "    X_tst.drop(['TARGET'], axis=1, inplace=True)\n",
    "    return [calc_rezult(X_trn,y_trn,X_tst,y_tst,0, 0), [X_trn,X_tst,y_trn,y_tst]]"
   ]
  },
  {
   "cell_type": "code",
   "execution_count": 107,
   "metadata": {},
   "outputs": [
    {
     "name": "stderr",
     "output_type": "stream",
     "text": [
      "100%|██████████| 10/10 [02:11<00:00, 13.12s/it]\n"
     ]
    }
   ],
   "source": [
    "x_exp=np.arange(0,10,1);\n",
    "y_exp_base=np.array([np.zeros(x_exp.shape[0]),np.zeros(x_exp.shape[0]),np.zeros(x_exp.shape[0]),np.zeros(x_exp.shape[0])])\n",
    "y_exp_under=np.array([np.zeros(x_exp.shape[0]),np.zeros(x_exp.shape[0]),np.zeros(x_exp.shape[0]),np.zeros(x_exp.shape[0])])\n",
    "y_exp_over=np.array([np.zeros(x_exp.shape[0]),np.zeros(x_exp.shape[0]),np.zeros(x_exp.shape[0]),np.zeros(x_exp.shape[0])])\n",
    "y_exp_time=np.array([np.zeros(x_exp.shape[0]),np.zeros(x_exp.shape[0]),np.zeros(x_exp.shape[0])])\n",
    "k=0;\n",
    "time1 = timeit.default_timer();time2 = timeit.default_timer();time3 = timeit.default_timer();time4 = timeit.default_timer();\n",
    "for i in tqdm(x_exp):\n",
    "    time1 = timeit.default_timer()\n",
    "    y_exp_base[0][k], y_exp_base[1][k], y_exp_base[2][k], y_exp_base[3][k] = sampling_analyze(data1,3,k)[0]\n",
    "    time2 = timeit.default_timer()\n",
    "    y_exp_under[0][k], y_exp_under[1][k], y_exp_under[2][k], y_exp_under[3][k] = sampling_analyze(data1,1,k)[0]\n",
    "    time3 = timeit.default_timer()\n",
    "    y_exp_over[0][k], y_exp_over[1][k], y_exp_over[2][k], y_exp_over[3][k]  = sampling_analyze(data1,2,k)[0]\n",
    "    time4 = timeit.default_timer()\n",
    "    y_exp_time[0][k] = time2-time1\n",
    "    y_exp_time[1][k] = time3-time2\n",
    "    y_exp_time[1][k] = time4-time3\n",
    "    k=k+1;   "
   ]
  },
  {
   "cell_type": "code",
   "execution_count": 111,
   "metadata": {},
   "outputs": [
    {
     "name": "stdout",
     "output_type": "stream",
     "text": [
      "\t\taccuracy\tprecision\trecall\t\tf1-score\ttime\n",
      "base\t\t0.929\t\t0.129\t\t0.138\t\t0.133\t\t4.875\n",
      "undersampling\t0.681\t\t0.682\t\t0.677\t\t0.68\t\t0.355\n",
      "oversampling\t0.967\t\t0.944\t\t0.992\t\t0.967\t\t7.882\n",
      "delta(und-over)\t42.0%\t\t38.0%\t\t47.0%\t\t42.0%%\t\t2120.0%\n"
     ]
    }
   ],
   "source": [
    "bas=np.concatenate((y_exp_base.mean(axis = 1),[y_exp_time[0].mean()]), axis=0)\n",
    "bas=bas.round(3)\n",
    "rUn=np.concatenate((y_exp_under.mean(axis = 1),[y_exp_time[1].mean()]), axis=0)\n",
    "rUn=rUn.round(3)\n",
    "rOv=np.concatenate((y_exp_over.mean(axis = 1),[y_exp_time[2].mean()]), axis=0)\n",
    "rOv=rOv.round(3)\n",
    "delta=rOv-rUn\n",
    "delta=(100*(delta/rUn)).round(0)\n",
    "print('\\t\\taccuracy\\tprecision\\trecall\\t\\tf1-score\\ttime')\n",
    "print('base\\t\\t' + str(bas[0]) + '\\t\\t' + str(bas[1]) + '\\t\\t' + str(bas[2]) + '\\t\\t' + str(bas[3]) + '\\t\\t' + str(bas[4]))\n",
    "print('undersampling\\t' + str(rUn[0]) + '\\t\\t' + str(rUn[1]) + '\\t\\t' + str(rUn[2]) + '\\t\\t' + str(rUn[3]) + '\\t\\t' + str(rUn[4]))\n",
    "print('oversampling\\t' + str(rOv[0]) + '\\t\\t' + str(rOv[1]) + '\\t\\t' + str(rOv[2]) + '\\t\\t' + str(rOv[3]) + '\\t\\t' + str(rOv[4]))\n",
    "print('delta(und-over)\\t' + str(delta[0]) + '%\\t\\t' + str(delta[1]) + '%\\t\\t' + str(delta[2]) + '%\\t\\t' + str(delta[3]) + '%' + '%\\t\\t' + str(delta[4]) + '%')"
   ]
  },
  {
   "cell_type": "markdown",
   "metadata": {},
   "source": [
    "Как можно видеть, несмотря на то, что undersempling значительно быстрее (за счет меньшей выборки), oversempling - много точнее.\n",
    "Поэтому здесь и далее, будет использован oversempling.\n",
    "Что касается исходной (базовой) выборки, она находится примерно по середине между undersempling  и oversempling по времени счета, и все еще имеет неудовлетворительное качество."
   ]
  },
  {
   "cell_type": "code",
   "execution_count": 12,
   "metadata": {},
   "outputs": [
    {
     "name": "stdout",
     "output_type": "stream",
     "text": [
      "[(146024, 369), (146024, 1)]\n"
     ]
    }
   ],
   "source": [
    "X_trn , X_tst , y_trn , y_tst = sampling_analyze(data1,2,5)[1]\n",
    "X=np.concatenate([X_trn,X_tst])\n",
    "y=np.concatenate([y_trn,y_tst])\n",
    "print([X.shape,y.shape])"
   ]
  },
  {
   "cell_type": "markdown",
   "metadata": {},
   "source": [
    "## Задание 4. Провести стратегию Feature Selection (попробовать как минимум два различных подхода)\n",
    "## Задание 10. Рассчитать Feature Importances для переменных модели"
   ]
  },
  {
   "cell_type": "markdown",
   "metadata": {},
   "source": [
    "##### Так как исходные данные содержат 370 столбцов входных данных первая задача это сократить это число как минимум вдвое.\n",
    "##### Для этого применим два подхода:\n",
    "#####    - анализ значимости компонент\n",
    "#####    - метод главных компанент (далее МГК)"
   ]
  },
  {
   "cell_type": "code",
   "execution_count": 16,
   "metadata": {},
   "outputs": [
    {
     "name": "stderr",
     "output_type": "stream",
     "text": [
      "100%|██████████| 369/369 [36:00<00:00,  5.69s/it]\n"
     ]
    }
   ],
   "source": [
    "# Анализ значимости компонент\n",
    "x_exp=np.arange(0,X_trn.shape[1],1);\n",
    "y_exp=np.array([np.zeros(x_exp.shape[0]),np.zeros(x_exp.shape[0]),np.zeros(x_exp.shape[0]),np.zeros(x_exp.shape[0])])\n",
    "k=0;\n",
    "for i in tqdm(x_exp):\n",
    "    y_exp[0][k], y_exp[1][k], y_exp[2][k], y_exp[3][k] =calc_rezult(X_trn,y_trn,X_tst,y_tst,i,1)\n",
    "    k=k+1;"
   ]
  },
  {
   "cell_type": "code",
   "execution_count": 17,
   "metadata": {},
   "outputs": [
    {
     "data": {
      "image/png": "[encoded data removed]",
      "text/plain": [
       "<Figure size 432x288 with 1 Axes>"
      ]
     },
     "metadata": {
      "needs_background": "light"
     },
     "output_type": "display_data"
    }
   ],
   "source": [
    "ix=np.argsort(y_exp[3])\n",
    "plt.plot(x_exp,y_exp[0][ix],'r-')\n",
    "plt.plot(x_exp,y_exp[1][ix],'b-')\n",
    "plt.plot(x_exp,y_exp[2][ix],'g-')\n",
    "plt.plot(x_exp,y_exp[3][ix],'y-')\n",
    "plt.xlim(-1, 370);plt.ylim(0.8, 0.994)\n",
    "plt.show()"
   ]
  },
  {
   "cell_type": "code",
   "execution_count": 41,
   "metadata": {},
   "outputs": [
    {
     "data": {
      "image/png": "[encoded data removed]",
      "text/plain": [
       "<Figure size 432x288 with 1 Axes>"
      ]
     },
     "metadata": {
      "needs_background": "light"
     },
     "output_type": "display_data"
    }
   ],
   "source": [
    "plt.plot(np.sort(y_exp[3]),'r')\n",
    "plt.xlim(-1, 370); plt.ylim(np.sort(y_exp[3])[2], np.sort(y_exp[3])[-1]);\n",
    "# Произведем ранжирование по параметру f1-score"
   ]
  },
  {
   "cell_type": "code",
   "execution_count": 19,
   "metadata": {},
   "outputs": [],
   "source": [
    "ix0=np.argsort(y_exp[3])\n",
    "X2_trn=pd.DataFrame(X_trn.values[:,x_exp[ix0]], columns=X_trn.columns[x_exp[ix0]])\n",
    "X2_tst=pd.DataFrame(X_tst.values[:,x_exp[ix0]], columns=X_tst.columns[x_exp[ix0]])\n",
    "X2=np.concatenate([X2_trn,X2_tst])\n",
    "ix_train=np.ones(X2.shape[0])\n",
    "ix_train[X2_trn.shape[0]:]=0"
   ]
  },
  {
   "cell_type": "markdown",
   "metadata": {},
   "source": [
    "Теперь произведем сравнение полученного ранжированного массива с МГК. Причем попутно оценим оптимальное количество компонент.\n",
    "Для этого будем брать по одной компоненте начиная с первой и добавлять на каждом шаге еще одну (следующую по значимости).\n",
    "Одновременно с этим используем МГК при выделении k-компонент, причем брать k = количству компонент в методе ранжирования."
   ]
  },
  {
   "cell_type": "code",
   "execution_count": 59,
   "metadata": {},
   "outputs": [
    {
     "name": "stderr",
     "output_type": "stream",
     "text": [
      "100%|██████████| 122/122 [30:59<00:00, 30.16s/it]\n"
     ]
    }
   ],
   "source": [
    "# Так как подобный расчет занимает достаточно большое время,\n",
    "#  а общая тенденция проясница уже на первых итерациях,\n",
    "#   то не имеет смысла делать его для трети всего набока признаков,\n",
    "#    ограничемся третью от общего числа.\n",
    "x_exp=np.arange(1,int(X_trn.shape[1]/3),1);\n",
    "#x_exp=np.arange(1,10,1);\n",
    "y_exp_range=np.array([np.zeros(x_exp.shape[0]),np.zeros(x_exp.shape[0]),np.zeros(x_exp.shape[0]),np.zeros(x_exp.shape[0])])\n",
    "y_exp_pca=np.array([np.zeros(x_exp.shape[0]),np.zeros(x_exp.shape[0]),np.zeros(x_exp.shape[0]),np.zeros(x_exp.shape[0])])\n",
    "y_exp_time=np.array([np.zeros(x_exp.shape[0]),np.zeros(x_exp.shape[0])])\n",
    "time1 = timeit.default_timer();time2 = timeit.default_timer();time3 = timeit.default_timer()\n",
    "k=0;\n",
    "for i in tqdm(x_exp):\n",
    "    time1 = timeit.default_timer()\n",
    "    y_exp_range[0][k], y_exp_range[1][k], y_exp_range[2][k], y_exp_range[3][k] = calc_rezult(X2_trn,y_trn,X2_tst,y_tst,int(x_exp[k]),2)\n",
    "    time2 = timeit.default_timer()\n",
    "    pca=PCA(n_components=int(i))\n",
    "    X_pca = pca.fit_transform(X2)\n",
    "    X_pca_trn=X_pca[ix_train==1]\n",
    "    X_pca_tst=X_pca[ix_train==0] \n",
    "    y_exp_pca[0][k], y_exp_pca[1][k], y_exp_pca[2][k], y_exp_pca[3][k] = calc_rezult(X_pca_trn,y_trn,X_pca_tst,y_tst,0,0)\n",
    "    time3 = timeit.default_timer()\n",
    "    y_exp_time[0][k] = time2-time1\n",
    "    y_exp_time[1][k] = time3-time2\n",
    "    k=k+1; "
   ]
  },
  {
   "cell_type": "code",
   "execution_count": 92,
   "metadata": {},
   "outputs": [
    {
     "name": "stdout",
     "output_type": "stream",
     "text": [
      "f1-score\n"
     ]
    },
    {
     "data": {
      "image/png": "[encoded data removed]",
      "text/plain": [
       "<Figure size 432x288 with 1 Axes>"
      ]
     },
     "metadata": {
      "needs_background": "light"
     },
     "output_type": "display_data"
    },
    {
     "name": "stdout",
     "output_type": "stream",
     "text": [
      "time\n"
     ]
    },
    {
     "data": {
      "image/png": "[encoded data removed]",
      "text/plain": [
       "<Figure size 432x288 with 1 Axes>"
      ]
     },
     "metadata": {
      "needs_background": "light"
     },
     "output_type": "display_data"
    },
    {
     "name": "stdout",
     "output_type": "stream",
     "text": [
      "f1-score (ZOOM)\n"
     ]
    },
    {
     "data": {
      "image/png": "[encoded data removed]",
      "text/plain": [
       "<Figure size 432x288 with 1 Axes>"
      ]
     },
     "metadata": {
      "needs_background": "light"
     },
     "output_type": "display_data"
    },
    {
     "name": "stdout",
     "output_type": "stream",
     "text": [
      "time (ZOOM)\n"
     ]
    },
    {
     "data": {
      "image/png": "[encoded data removed]",
      "text/plain": [
       "<Figure size 432x288 with 1 Axes>"
      ]
     },
     "metadata": {
      "needs_background": "light"
     },
     "output_type": "display_data"
    }
   ],
   "source": [
    "print('f1-score')\n",
    "plt.plot(x_exp,y_exp_range[3],'b')\n",
    "plt.plot(x_exp,y_exp_pca[3],'r')\n",
    "plt.xlim(-1, y_exp_range.shape[1]); plt.ylim(0.9, 0.97);\n",
    "plt.show()\n",
    "print('time');\n",
    "plt.plot(x_exp,y_exp_time[0],'b')\n",
    "plt.plot(x_exp,y_exp_time[1],'r')\n",
    "plt.show()\n",
    "print('f1-score (ZOOM)')\n",
    "plt.plot(x_exp,y_exp_range[3],'b')\n",
    "plt.plot(x_exp,y_exp_pca[3],'r')\n",
    "plt.xlim(15, 45); plt.ylim(0.962, 0.969);\n",
    "plt.show()\n",
    "print('time (ZOOM)'); \n",
    "plt.plot(x_exp,y_exp_time[0],'b')\n",
    "plt.plot(x_exp,y_exp_time[1],'r')\n",
    "plt.xlim(15, 45);plt.ylim(0, 10);\n",
    "plt.show()"
   ]
  },
  {
   "cell_type": "markdown",
   "metadata": {},
   "source": [
    "Как видно из графиков начиная с 18 компанентов МГК обгоняет ранжирование. Так же видно, что есть два пика значений f1-score: при 30 и при 39 и их значения похожи, однако из графика времени расчета следует что МГК(30) быстрее чем МГК(39).\n",
    "Таким образом здесь и далее для расчета будет использован МГК(30)."
   ]
  },
  {
   "cell_type": "code",
   "execution_count": 206,
   "metadata": {},
   "outputs": [],
   "source": [
    "pca=PCA(n_components=30)\n",
    "X_pca = pca.fit_transform(X2)\n",
    "X_pca_trn=X_pca[ix_train==1]\n",
    "X_pca_tst=X_pca[ix_train==0]"
   ]
  },
  {
   "cell_type": "markdown",
   "metadata": {},
   "source": [
    "## Задание 2. Провести описательный анализ предложенных данных\n",
    "Поскольку изночальный массив данных был слишком велик и содержал явно избыточное количество признаков было не целесообразно производить их описательный анализ.\n",
    "Теперь, после ранжирования признаков и выявления самых значимых из них проведем такой анализ для первых 17 признаков (т.к. по результатам сравнения с МГК это последнее значение с большим f1-score)"
   ]
  },
  {
   "cell_type": "code",
   "execution_count": 218,
   "metadata": {},
   "outputs": [
    {
     "data": {
      "text/html": [
       "<div>\n",
       "<style scoped>\n",
       "    .dataframe tbody tr th:only-of-type {\n",
       "        vertical-align: middle;\n",
       "    }\n",
       "\n",
       "    .dataframe tbody tr th {\n",
       "        vertical-align: top;\n",
       "    }\n",
       "\n",
       "    .dataframe thead th {\n",
       "        text-align: right;\n",
       "    }\n",
       "</style>\n",
       "<table border=\"1\" class=\"dataframe\">\n",
       "  <thead>\n",
       "    <tr style=\"text-align: right;\">\n",
       "      <th></th>\n",
       "      <th>var38</th>\n",
       "      <th>var15</th>\n",
       "      <th>num_var13_corto</th>\n",
       "      <th>saldo_medio_var5_ult3</th>\n",
       "      <th>ind_var13_medio_0</th>\n",
       "      <th>num_trasp_var33_in_hace3</th>\n",
       "      <th>num_meses_var39_vig_ult3</th>\n",
       "      <th>imp_amort_var18_hace3</th>\n",
       "      <th>delta_num_aport_var17_1y3</th>\n",
       "      <th>num_op_var40_hace3</th>\n",
       "      <th>ind_var46_0</th>\n",
       "      <th>num_var26_0</th>\n",
       "      <th>num_var5_0</th>\n",
       "      <th>num_var12_0</th>\n",
       "      <th>imp_op_var41_efect_ult3</th>\n",
       "      <th>imp_trasp_var33_in_hace3</th>\n",
       "      <th>num_med_var22_ult3</th>\n",
       "    </tr>\n",
       "  </thead>\n",
       "  <tbody>\n",
       "    <tr>\n",
       "      <th>count</th>\n",
       "      <td>1.460240e+05</td>\n",
       "      <td>146024.000000</td>\n",
       "      <td>146024.000000</td>\n",
       "      <td>146024.000000</td>\n",
       "      <td>146024.000000</td>\n",
       "      <td>146024.000000</td>\n",
       "      <td>146024.000000</td>\n",
       "      <td>146024.0</td>\n",
       "      <td>1.460240e+05</td>\n",
       "      <td>146024.000000</td>\n",
       "      <td>146024.0</td>\n",
       "      <td>146024.000000</td>\n",
       "      <td>146024.000000</td>\n",
       "      <td>146024.000000</td>\n",
       "      <td>146024.000000</td>\n",
       "      <td>146024.000000</td>\n",
       "      <td>146024.000000</td>\n",
       "    </tr>\n",
       "    <tr>\n",
       "      <th>mean</th>\n",
       "      <td>1.089267e+05</td>\n",
       "      <td>36.302519</td>\n",
       "      <td>0.075809</td>\n",
       "      <td>672.203441</td>\n",
       "      <td>0.000014</td>\n",
       "      <td>0.000123</td>\n",
       "      <td>1.573015</td>\n",
       "      <td>0.0</td>\n",
       "      <td>4.519805e+06</td>\n",
       "      <td>0.000534</td>\n",
       "      <td>0.0</td>\n",
       "      <td>0.114947</td>\n",
       "      <td>2.851833</td>\n",
       "      <td>0.153940</td>\n",
       "      <td>160.006258</td>\n",
       "      <td>1.452354</td>\n",
       "      <td>0.704966</td>\n",
       "    </tr>\n",
       "    <tr>\n",
       "      <th>std</th>\n",
       "      <td>1.507982e+05</td>\n",
       "      <td>12.921317</td>\n",
       "      <td>0.471094</td>\n",
       "      <td>6232.701338</td>\n",
       "      <td>0.003701</td>\n",
       "      <td>0.019230</td>\n",
       "      <td>0.757277</td>\n",
       "      <td>0.0</td>\n",
       "      <td>2.125510e+08</td>\n",
       "      <td>0.130425</td>\n",
       "      <td>0.0</td>\n",
       "      <td>0.714487</td>\n",
       "      <td>0.746845</td>\n",
       "      <td>1.452801</td>\n",
       "      <td>941.669665</td>\n",
       "      <td>233.643735</td>\n",
       "      <td>2.116828</td>\n",
       "    </tr>\n",
       "    <tr>\n",
       "      <th>min</th>\n",
       "      <td>5.163750e+03</td>\n",
       "      <td>5.000000</td>\n",
       "      <td>0.000000</td>\n",
       "      <td>-476.070000</td>\n",
       "      <td>0.000000</td>\n",
       "      <td>0.000000</td>\n",
       "      <td>0.000000</td>\n",
       "      <td>0.0</td>\n",
       "      <td>-1.000000e+00</td>\n",
       "      <td>0.000000</td>\n",
       "      <td>0.0</td>\n",
       "      <td>0.000000</td>\n",
       "      <td>0.000000</td>\n",
       "      <td>0.000000</td>\n",
       "      <td>0.000000</td>\n",
       "      <td>0.000000</td>\n",
       "      <td>0.000000</td>\n",
       "    </tr>\n",
       "    <tr>\n",
       "      <th>25%</th>\n",
       "      <td>6.232464e+04</td>\n",
       "      <td>25.000000</td>\n",
       "      <td>0.000000</td>\n",
       "      <td>0.000000</td>\n",
       "      <td>0.000000</td>\n",
       "      <td>0.000000</td>\n",
       "      <td>1.000000</td>\n",
       "      <td>0.0</td>\n",
       "      <td>0.000000e+00</td>\n",
       "      <td>0.000000</td>\n",
       "      <td>0.0</td>\n",
       "      <td>0.000000</td>\n",
       "      <td>3.000000</td>\n",
       "      <td>0.000000</td>\n",
       "      <td>0.000000</td>\n",
       "      <td>0.000000</td>\n",
       "      <td>0.000000</td>\n",
       "    </tr>\n",
       "    <tr>\n",
       "      <th>50%</th>\n",
       "      <td>9.645724e+04</td>\n",
       "      <td>33.000000</td>\n",
       "      <td>0.000000</td>\n",
       "      <td>2.070000</td>\n",
       "      <td>0.000000</td>\n",
       "      <td>0.000000</td>\n",
       "      <td>2.000000</td>\n",
       "      <td>0.0</td>\n",
       "      <td>0.000000e+00</td>\n",
       "      <td>0.000000</td>\n",
       "      <td>0.0</td>\n",
       "      <td>0.000000</td>\n",
       "      <td>3.000000</td>\n",
       "      <td>0.000000</td>\n",
       "      <td>0.000000</td>\n",
       "      <td>0.000000</td>\n",
       "      <td>0.000000</td>\n",
       "    </tr>\n",
       "    <tr>\n",
       "      <th>75%</th>\n",
       "      <td>1.173110e+05</td>\n",
       "      <td>44.000000</td>\n",
       "      <td>0.000000</td>\n",
       "      <td>44.580000</td>\n",
       "      <td>0.000000</td>\n",
       "      <td>0.000000</td>\n",
       "      <td>2.000000</td>\n",
       "      <td>0.0</td>\n",
       "      <td>0.000000e+00</td>\n",
       "      <td>0.000000</td>\n",
       "      <td>0.0</td>\n",
       "      <td>0.000000</td>\n",
       "      <td>3.000000</td>\n",
       "      <td>0.000000</td>\n",
       "      <td>0.000000</td>\n",
       "      <td>0.000000</td>\n",
       "      <td>0.000000</td>\n",
       "    </tr>\n",
       "    <tr>\n",
       "      <th>max</th>\n",
       "      <td>2.203474e+07</td>\n",
       "      <td>105.000000</td>\n",
       "      <td>6.000000</td>\n",
       "      <td>544365.570000</td>\n",
       "      <td>1.000000</td>\n",
       "      <td>3.000000</td>\n",
       "      <td>3.000000</td>\n",
       "      <td>0.0</td>\n",
       "      <td>1.000000e+10</td>\n",
       "      <td>48.000000</td>\n",
       "      <td>0.0</td>\n",
       "      <td>33.000000</td>\n",
       "      <td>15.000000</td>\n",
       "      <td>111.000000</td>\n",
       "      <td>131100.000000</td>\n",
       "      <td>49581.270000</td>\n",
       "      <td>78.000000</td>\n",
       "    </tr>\n",
       "  </tbody>\n",
       "</table>\n",
       "</div>"
      ],
      "text/plain": [
       "              var38          var15  num_var13_corto  saldo_medio_var5_ult3  \\\n",
       "count  1.460240e+05  146024.000000    146024.000000          146024.000000   \n",
       "mean   1.089267e+05      36.302519         0.075809             672.203441   \n",
       "std    1.507982e+05      12.921317         0.471094            6232.701338   \n",
       "min    5.163750e+03       5.000000         0.000000            -476.070000   \n",
       "25%    6.232464e+04      25.000000         0.000000               0.000000   \n",
       "50%    9.645724e+04      33.000000         0.000000               2.070000   \n",
       "75%    1.173110e+05      44.000000         0.000000              44.580000   \n",
       "max    2.203474e+07     105.000000         6.000000          544365.570000   \n",
       "\n",
       "       ind_var13_medio_0  num_trasp_var33_in_hace3  num_meses_var39_vig_ult3  \\\n",
       "count      146024.000000             146024.000000             146024.000000   \n",
       "mean            0.000014                  0.000123                  1.573015   \n",
       "std             0.003701                  0.019230                  0.757277   \n",
       "min             0.000000                  0.000000                  0.000000   \n",
       "25%             0.000000                  0.000000                  1.000000   \n",
       "50%             0.000000                  0.000000                  2.000000   \n",
       "75%             0.000000                  0.000000                  2.000000   \n",
       "max             1.000000                  3.000000                  3.000000   \n",
       "\n",
       "       imp_amort_var18_hace3  delta_num_aport_var17_1y3  num_op_var40_hace3  \\\n",
       "count               146024.0               1.460240e+05       146024.000000   \n",
       "mean                     0.0               4.519805e+06            0.000534   \n",
       "std                      0.0               2.125510e+08            0.130425   \n",
       "min                      0.0              -1.000000e+00            0.000000   \n",
       "25%                      0.0               0.000000e+00            0.000000   \n",
       "50%                      0.0               0.000000e+00            0.000000   \n",
       "75%                      0.0               0.000000e+00            0.000000   \n",
       "max                      0.0               1.000000e+10           48.000000   \n",
       "\n",
       "       ind_var46_0    num_var26_0     num_var5_0    num_var12_0  \\\n",
       "count     146024.0  146024.000000  146024.000000  146024.000000   \n",
       "mean           0.0       0.114947       2.851833       0.153940   \n",
       "std            0.0       0.714487       0.746845       1.452801   \n",
       "min            0.0       0.000000       0.000000       0.000000   \n",
       "25%            0.0       0.000000       3.000000       0.000000   \n",
       "50%            0.0       0.000000       3.000000       0.000000   \n",
       "75%            0.0       0.000000       3.000000       0.000000   \n",
       "max            0.0      33.000000      15.000000     111.000000   \n",
       "\n",
       "       imp_op_var41_efect_ult3  imp_trasp_var33_in_hace3  num_med_var22_ult3  \n",
       "count            146024.000000             146024.000000       146024.000000  \n",
       "mean                160.006258                  1.452354            0.704966  \n",
       "std                 941.669665                233.643735            2.116828  \n",
       "min                   0.000000                  0.000000            0.000000  \n",
       "25%                   0.000000                  0.000000            0.000000  \n",
       "50%                   0.000000                  0.000000            0.000000  \n",
       "75%                   0.000000                  0.000000            0.000000  \n",
       "max              131100.000000              49581.270000           78.000000  "
      ]
     },
     "execution_count": 218,
     "metadata": {},
     "output_type": "execute_result"
    }
   ],
   "source": [
    "X2_df=pd.DataFrame(X2[:,range(17)],columns=data1.columns[ix0[range(17)]])\n",
    "X2_df.describe()"
   ]
  },
  {
   "cell_type": "markdown",
   "metadata": {},
   "source": [
    "## Задание 3. Провести анализ корреляции переменных, отобразить взаимосвязи между переменными\n",
    "А теперь, посмотрим на кросс-корреляцию этих 17-и признаков."
   ]
  },
  {
   "cell_type": "code",
   "execution_count": 219,
   "metadata": {},
   "outputs": [
    {
     "data": {
      "image/png": "[encoded data removed]",
      "text/plain": [
       "<Figure size 432x288 with 2 Axes>"
      ]
     },
     "metadata": {
      "needs_background": "light"
     },
     "output_type": "display_data"
    }
   ],
   "source": [
    "# Correction Matrix Plot\n",
    "names = X2_df.columns\n",
    "#data = pandas.read_csv(url, names=names)\n",
    "correlations = X2_df.corr()\n",
    "# plot correlation matrix\n",
    "fig = plt.figure()\n",
    "ax = fig.add_subplot(111)\n",
    "cax = ax.matshow(correlations, vmin=-1, vmax=1)\n",
    "fig.colorbar(cax)\n",
    "ticks = np.arange(0,X2_df.shape[1])\n",
    "ax.set_xticks(ticks)\n",
    "ax.set_yticks(ticks)\n",
    "plt.show()"
   ]
  },
  {
   "cell_type": "markdown",
   "metadata": {},
   "source": [
    "## Задание 8. Сделать кросс-валидацию тренировочных данных с использованием подхода K-fold (n_folds=10)"
   ]
  },
  {
   "cell_type": "code",
   "execution_count": 125,
   "metadata": {},
   "outputs": [
    {
     "name": "stderr",
     "output_type": "stream",
     "text": [
      "10it [00:35,  3.52s/it]\n"
     ]
    }
   ],
   "source": [
    "# Так как количиство фичей большое (106) проведем простой анализ МГК\n",
    "n_kfold=10\n",
    "kf = KFold(n_splits=n_kfold, random_state=5, shuffle=True)\n",
    "x_exp=np.arange(n_kfold)\n",
    "y_exp=np.array([np.zeros(x_exp.shape[0]),np.zeros(x_exp.shape[0]),np.zeros(x_exp.shape[0]),np.zeros(x_exp.shape[0])])\n",
    "stop = timeit.default_timer()\n",
    "k=0;\n",
    "for trn_ix, tst_ix in tqdm(kf.split(X_pca,y)):\n",
    "    y_exp[0][k], y_exp[1][k], y_exp[2][k], y_exp[3][k] = calc_rezult(X_pca[trn_ix],y[trn_ix],X_pca[tst_ix],y[tst_ix], 0, 0)\n",
    "    k=k+1"
   ]
  },
  {
   "cell_type": "code",
   "execution_count": 137,
   "metadata": {},
   "outputs": [
    {
     "name": "stdout",
     "output_type": "stream",
     "text": [
      "Accuracy\n"
     ]
    },
    {
     "data": {
      "image/png": "[encoded data removed]",
      "text/plain": [
       "<Figure size 432x288 with 1 Axes>"
      ]
     },
     "metadata": {
      "needs_background": "light"
     },
     "output_type": "display_data"
    },
    {
     "name": "stdout",
     "output_type": "stream",
     "text": [
      "Precision\n"
     ]
    },
    {
     "data": {
      "image/png": "[encoded data removed]",
      "text/plain": [
       "<Figure size 432x288 with 1 Axes>"
      ]
     },
     "metadata": {
      "needs_background": "light"
     },
     "output_type": "display_data"
    },
    {
     "name": "stdout",
     "output_type": "stream",
     "text": [
      "Recall\n"
     ]
    },
    {
     "data": {
      "image/png": "[encoded data removed]",
      "text/plain": [
       "<Figure size 432x288 with 1 Axes>"
      ]
     },
     "metadata": {
      "needs_background": "light"
     },
     "output_type": "display_data"
    },
    {
     "name": "stdout",
     "output_type": "stream",
     "text": [
      "Score\n"
     ]
    },
    {
     "data": {
      "image/png": "[encoded data removed]",
      "text/plain": [
       "<Figure size 432x288 with 1 Axes>"
      ]
     },
     "metadata": {
      "needs_background": "light"
     },
     "output_type": "display_data"
    }
   ],
   "source": [
    "plt.plot(x_exp,y_exp[0],'bo')\n",
    "plt.plot([x_exp[0],x_exp[-1]],[y_exp[0].mean(),y_exp[0].mean()],'b--')\n",
    "print('Accuracy')\n",
    "plt.show()\n",
    "plt.plot(x_exp,y_exp[1],'ro')\n",
    "plt.plot([x_exp[0],x_exp[-1]],[y_exp[1].mean(),y_exp[1].mean()],'r--')\n",
    "print('Precision')\n",
    "plt.show()\n",
    "plt.plot(x_exp,y_exp[2],'go')\n",
    "plt.plot([x_exp[0],x_exp[-1]],[y_exp[2].mean(),y_exp[2].mean()],'g--')\n",
    "print('Recall')\n",
    "plt.show()\n",
    "plt.plot(x_exp,y_exp[3],'yo')\n",
    "plt.plot([x_exp[0],x_exp[-1]],[y_exp[3].mean(),y_exp[3].mean()],'y--')\n",
    "print('Score')\n",
    "plt.show()"
   ]
  },
  {
   "cell_type": "markdown",
   "metadata": {},
   "source": [
    "## Задание 9. Решить задачу бинарной классификации и предсказать удовлетворение клиентов банка (переменная TARGET)"
   ]
  },
  {
   "cell_type": "code",
   "execution_count": 175,
   "metadata": {},
   "outputs": [
    {
     "name": "stdout",
     "output_type": "stream",
     "text": [
      "accuracy:\t0.9713\n",
      "precision:\t0.9412\n",
      "recall:\t\t0.9901\n",
      "f1-score:\t0.965\n"
     ]
    }
   ],
   "source": [
    "# Разбиение на train и test выборки (с сохранением пропорционального соотношения 0 и 1 в целевых данных)\n",
    "sss = ShuffleSplit(n_splits=1, test_size=0.2, random_state=k)\n",
    "sss.get_n_splits(X_pca[ix_train==0])\n",
    "trn_ix_0 , tst_ix_0 = next(sss.split(X_pca[ix_train==0]))\n",
    "sss = ShuffleSplit(n_splits=1, test_size=0.2, random_state=k)\n",
    "sss.get_n_splits(X_pca[ix_train==1])\n",
    "trn_ix_1 , tst_ix_1 = next(sss.split(X_pca[ix_train==1]))\n",
    "trn_ix=np.concatenate([trn_ix_0,trn_ix_1], axis=0)\n",
    "tst_ix=np.concatenate([tst_ix_0,tst_ix_1], axis=0)\n",
    "# Расчет\n",
    "model = DecisionTreeClassifier()\n",
    "model.fit(X_pca[trn_ix], y[trn_ix])\n",
    "y_pred = model.predict(X_pca)\n",
    "# Результаты\n",
    "print('accuracy:\\t' + str(accuracy(y[tst_ix], y_pred[tst_ix]).round(4)))\n",
    "print('precision:\\t' + str(precision(y[tst_ix], y_pred[tst_ix]).round(4)))\n",
    "print('recall:\\t\\t' + str(recall(y[tst_ix], y_pred[tst_ix]).round(4)))\n",
    "print('f1-score:\\t' + str(f1(y[tst_ix], y_pred[tst_ix]).round(4)))"
   ]
  },
  {
   "cell_type": "markdown",
   "metadata": {},
   "source": [
    "## Задание 12. Построить Confusion Matrix для ваших результатов"
   ]
  },
  {
   "cell_type": "code",
   "execution_count": 194,
   "metadata": {},
   "outputs": [],
   "source": [
    "cm=(100*confusion_matrix(y[tst_ix], y_pred[tst_ix])/tst_ix.shape[0]).round(1)"
   ]
  },
  {
   "cell_type": "code",
   "execution_count": 196,
   "metadata": {},
   "outputs": [
    {
     "data": {
      "image/png": "[encoded data removed]",
      "text/plain": [
       "<Figure size 432x288 with 1 Axes>"
      ]
     },
     "metadata": {
      "needs_background": "light"
     },
     "output_type": "display_data"
    }
   ],
   "source": [
    "plt.clf()\n",
    "plt.imshow(cm, interpolation='nearest', cmap=plt.cm.Wistia)\n",
    "classNames = ['Negative','Positive']\n",
    "plt.title('Versicolor or Not Versicolor Confusion Matrix - Test Data')\n",
    "plt.ylabel('True label')\n",
    "plt.xlabel('Predicted label')\n",
    "tick_marks = np.arange(len(classNames))\n",
    "plt.xticks(tick_marks, classNames, rotation=45)\n",
    "plt.yticks(tick_marks, classNames)\n",
    "s = [['TN','FP'], ['FN', 'TP']]\n",
    "for i in range(2):\n",
    "    for j in range(2):\n",
    "        plt.text(j,i, str(s[i][j])+\" = \"+str(cm[i][j])+'%')\n",
    "plt.show()"
   ]
  }
 ],
 "metadata": {
  "kernelspec": {
   "display_name": "Python 3",
   "language": "python",
   "name": "python3"
  },
  "language_info": {
   "codemirror_mode": {
    "name": "ipython",
    "version": 3
   },
   "file_extension": ".py",
   "mimetype": "text/x-python",
   "name": "python",
   "nbconvert_exporter": "python",
   "pygments_lexer": "ipython3",
   "version": "3.7.0"
  }
 },
 "nbformat": 4,
 "nbformat_minor": 2
}
