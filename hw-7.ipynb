{
 "cells": [
  {
   "cell_type": "markdown",
   "metadata": {},
   "source": [
    "### Задание 1.\n",
    "Существует массив\n",
    "#### Z = [1,2,3,4,5,6,7,8,9,10,11,12,13,14],\n",
    "как из него создать массив\n",
    "#### R = [[1,2,3,4], [2,3,4,5], [3,4,5,6], ...,[11,12,13,14]]?"
   ]
  },
  {
   "cell_type": "code",
   "execution_count": 36,
   "metadata": {},
   "outputs": [
    {
     "data": {
      "text/plain": [
       "array([[ 1,  2,  3,  4],\n",
       "       [ 2,  3,  4,  5],\n",
       "       [ 3,  4,  5,  6],\n",
       "       [ 4,  5,  6,  7],\n",
       "       [ 5,  6,  7,  8],\n",
       "       [ 6,  7,  8,  9],\n",
       "       [ 7,  8,  9, 10],\n",
       "       [ 8,  9, 10, 11],\n",
       "       [ 9, 10, 11, 12],\n",
       "       [10, 11, 12, 13],\n",
       "       [11, 12, 13, 14]])"
      ]
     },
     "execution_count": 36,
     "metadata": {},
     "output_type": "execute_result"
    }
   ],
   "source": [
    "import numpy as np\n",
    "Z=np.array([1,2,3,4,5,6,7,8,9,10,11,12,13,14])\n",
    "i=0\n",
    "R=np.arange(44).reshape(11,4)\n",
    "while i<=Z[-1]-4:\n",
    "    R[:][i]=Z[i:4+i]\n",
    "    i=i+1\n",
    "R"
   ]
  },
  {
   "cell_type": "markdown",
   "metadata": {},
   "source": [
    "### Задание 2.\n",
    "Дана произвольная матрица A. Рассчитать ранг матрицы A."
   ]
  },
  {
   "cell_type": "code",
   "execution_count": 57,
   "metadata": {},
   "outputs": [
    {
     "name": "stdout",
     "output_type": "stream",
     "text": [
      "[[0.40468632 0.8546994  0.47873509 0.23578658 0.21646982 0.20054237]\n",
      " [0.5650401  0.84945433 0.82396885 0.68646123 0.61545792 0.80718098]\n",
      " [0.24933024 0.66177034 0.23569582 0.0283255  0.25499003 0.09648511]\n",
      " [0.67241067 0.91741552 0.52270123 0.02792676 0.87313929 0.09102323]\n",
      " [0.48318181 0.72094658 0.76719755 0.26348787 0.16715968 0.78073515]]\n",
      "Её ранг равен 5\n"
     ]
    }
   ],
   "source": [
    "A = np.random.uniform(0,1,(5,6))\n",
    "print(A)\n",
    "rank = np.linalg.matrix_rank(A)\n",
    "print('Её ранг равен ' + str(rank))"
   ]
  },
  {
   "cell_type": "markdown",
   "metadata": {},
   "source": [
    "### Задание 3.\n",
    "Найти лучший алгоритм для решения следующей задачи:\n",
    "#### min (x1x4(x1+x2+x3)+x3).\n",
    "Условия:\n",
    "#### x1x2x3x4≥30\n",
    "#### x1^2+x2^2+x3^2+x4^2=60\n",
    "#### 2≤x1,x2,x3,x4≤6\n",
    "Начальное приближение:\n",
    "#### x=(1,5,5,1)"
   ]
  },
  {
   "cell_type": "code",
   "execution_count": 22,
   "metadata": {},
   "outputs": [
    {
     "name": "stdout",
     "output_type": "stream",
     "text": [
      "в \"scipy.optimize\" всего два метода поддерживают сложные ограничения,\n",
      "значит и выбирать приходится только между двумя \"COBYLA\" и \"SLSQP\".\n",
      "*****\n",
      " Результаты COBYLA:\n",
      "     fun: 18.444874233295803\n",
      "   maxcv: 2.273900512328453e-09\n",
      " message: 'Optimization terminated successfully.'\n",
      "    nfev: 58\n",
      "  status: 1\n",
      " success: True\n",
      "       x: array([2.00000218, 5.93087806, 4.52911104, 0.55841724])\n",
      "*****\n",
      " Результаты SLSQP:\n",
      "     fun: 18.445642139422315\n",
      "     jac: array([ 8.08784962,  1.11905026,  2.11905026, 24.90969443])\n",
      " message: 'Optimization terminated successfully.'\n",
      "    nfev: 111\n",
      "     nit: 19\n",
      "    njev: 18\n",
      "  status: 0\n",
      " success: True\n",
      "       x: array([2.        , 5.94680404, 4.50804319, 0.55952509])\n",
      "*****\n",
      " Итог:\n",
      "COBYLA - лучше, так как его ошибка меньше\n"
     ]
    }
   ],
   "source": [
    "from scipy import optimize\n",
    "from scipy.optimize import Bounds\n",
    "def f(x):\n",
    "    return x[0]*x[3]*(x[0]+x[1]+x[2])+x[2]\n",
    "print('в \"scipy.optimize\" всего два метода поддерживают сложные ограничения,\\nзначит и выбирать приходится только между двумя \"COBYLA\" и \"SLSQP\".')\n",
    "cons = ({'type': 'ineq', 'fun': lambda x: x[0]*x[1]*x[2]*x[3]-30},\\\n",
    "        {'type': 'ineq', 'fun': lambda x: x[0]**2+x[1]**2+x[2]**2+x[3]**2-60},\\\n",
    "        {'type': 'ineq', 'fun': lambda x: 60-x[0]**2-x[1]**2-x[2]**2-x[3]**2},\\\n",
    "        {'type': 'ineq', 'fun': lambda x: x[0]-2},\\\n",
    "        {'type': 'ineq', 'fun': lambda x: 6-x[0]},\\\n",
    "        {'type': 'ineq', 'fun': lambda x: x[1]-2},\\\n",
    "        {'type': 'ineq', 'fun': lambda x: 6-x[1]},\\\n",
    "        {'type': 'ineq', 'fun': lambda x: x[1]-2},\\\n",
    "        {'type': 'ineq', 'fun': lambda x: 6-x[1]},\\\n",
    "        {'type': 'ineq', 'fun': lambda x: x[1]-2},\\\n",
    "        {'type': 'ineq', 'fun': lambda x: 6-x[1]})\n",
    "\n",
    "rez_COBYLA=optimize.minimize(f, [4,4,4,4], constraints=cons, method='COBYLA')\n",
    "print('*****\\n Результаты COBYLA:')\n",
    "print(rez_COBYLA)\n",
    "print('*****\\n Результаты SLSQP:')\n",
    "rez_SLSQP=optimize.minimize(f, [4,4,4,4], constraints=cons, method='SLSQP')\n",
    "print(rez_SLSQP)\n",
    "print('*****\\n Итог:')\n",
    "if rez_COBYLA.fun-rez_SLSQP.fun>0:\n",
    "    print('SLSQP - лучше, так как его ошибка меньше')\n",
    "else:\n",
    "    print('COBYLA - лучше, так как его ошибка меньше')"
   ]
  }
 ],
 "metadata": {
  "kernelspec": {
   "display_name": "Python 3",
   "language": "python",
   "name": "python3"
  },
  "language_info": {
   "codemirror_mode": {
    "name": "ipython",
    "version": 3
   },
   "file_extension": ".py",
   "mimetype": "text/x-python",
   "name": "python",
   "nbconvert_exporter": "python",
   "pygments_lexer": "ipython3",
   "version": "3.6.5"
  }
 },
 "nbformat": 4,
 "nbformat_minor": 2
}
